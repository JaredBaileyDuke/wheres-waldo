{
  "nbformat": 4,
  "nbformat_minor": 0,
  "metadata": {
    "colab": {
      "provenance": []
    },
    "kernelspec": {
      "name": "python3",
      "display_name": "Python 3"
    },
    "language_info": {
      "name": "python"
    }
  },
  "cells": [
    {
      "cell_type": "code",
      "execution_count": null,
      "metadata": {
        "colab": {
          "base_uri": "https://localhost:8080/"
        },
        "id": "KJ6n1JOJGgLm",
        "outputId": "dd398906-3f21-4123-acff-e059e7612183"
      },
      "outputs": [
        {
          "output_type": "stream",
          "name": "stdout",
          "text": [
            "Collecting ultralytics\n",
            "  Downloading ultralytics-8.2.1-py3-none-any.whl (750 kB)\n",
            "\u001b[2K     \u001b[90m━━━━━━━━━━━━━━━━━━━━━━━━━━━━━━━━━━━━━━━━\u001b[0m \u001b[32m750.8/750.8 kB\u001b[0m \u001b[31m10.6 MB/s\u001b[0m eta \u001b[36m0:00:00\u001b[0m\n",
            "\u001b[?25hRequirement already satisfied: matplotlib>=3.3.0 in /usr/local/lib/python3.10/dist-packages (from ultralytics) (3.7.1)\n",
            "Requirement already satisfied: opencv-python>=4.6.0 in /usr/local/lib/python3.10/dist-packages (from ultralytics) (4.8.0.76)\n",
            "Requirement already satisfied: pillow>=7.1.2 in /usr/local/lib/python3.10/dist-packages (from ultralytics) (9.4.0)\n",
            "Requirement already satisfied: pyyaml>=5.3.1 in /usr/local/lib/python3.10/dist-packages (from ultralytics) (6.0.1)\n",
            "Requirement already satisfied: requests>=2.23.0 in /usr/local/lib/python3.10/dist-packages (from ultralytics) (2.31.0)\n",
            "Requirement already satisfied: scipy>=1.4.1 in /usr/local/lib/python3.10/dist-packages (from ultralytics) (1.11.4)\n",
            "Requirement already satisfied: torch>=1.8.0 in /usr/local/lib/python3.10/dist-packages (from ultralytics) (2.2.1+cu121)\n",
            "Requirement already satisfied: torchvision>=0.9.0 in /usr/local/lib/python3.10/dist-packages (from ultralytics) (0.17.1+cu121)\n",
            "Requirement already satisfied: tqdm>=4.64.0 in /usr/local/lib/python3.10/dist-packages (from ultralytics) (4.66.2)\n",
            "Requirement already satisfied: psutil in /usr/local/lib/python3.10/dist-packages (from ultralytics) (5.9.5)\n",
            "Requirement already satisfied: py-cpuinfo in /usr/local/lib/python3.10/dist-packages (from ultralytics) (9.0.0)\n",
            "Collecting thop>=0.1.1 (from ultralytics)\n",
            "  Downloading thop-0.1.1.post2209072238-py3-none-any.whl (15 kB)\n",
            "Requirement already satisfied: pandas>=1.1.4 in /usr/local/lib/python3.10/dist-packages (from ultralytics) (2.0.3)\n",
            "Requirement already satisfied: seaborn>=0.11.0 in /usr/local/lib/python3.10/dist-packages (from ultralytics) (0.13.1)\n",
            "Requirement already satisfied: contourpy>=1.0.1 in /usr/local/lib/python3.10/dist-packages (from matplotlib>=3.3.0->ultralytics) (1.2.1)\n",
            "Requirement already satisfied: cycler>=0.10 in /usr/local/lib/python3.10/dist-packages (from matplotlib>=3.3.0->ultralytics) (0.12.1)\n",
            "Requirement already satisfied: fonttools>=4.22.0 in /usr/local/lib/python3.10/dist-packages (from matplotlib>=3.3.0->ultralytics) (4.51.0)\n",
            "Requirement already satisfied: kiwisolver>=1.0.1 in /usr/local/lib/python3.10/dist-packages (from matplotlib>=3.3.0->ultralytics) (1.4.5)\n",
            "Requirement already satisfied: numpy>=1.20 in /usr/local/lib/python3.10/dist-packages (from matplotlib>=3.3.0->ultralytics) (1.25.2)\n",
            "Requirement already satisfied: packaging>=20.0 in /usr/local/lib/python3.10/dist-packages (from matplotlib>=3.3.0->ultralytics) (24.0)\n",
            "Requirement already satisfied: pyparsing>=2.3.1 in /usr/local/lib/python3.10/dist-packages (from matplotlib>=3.3.0->ultralytics) (3.1.2)\n",
            "Requirement already satisfied: python-dateutil>=2.7 in /usr/local/lib/python3.10/dist-packages (from matplotlib>=3.3.0->ultralytics) (2.8.2)\n",
            "Requirement already satisfied: pytz>=2020.1 in /usr/local/lib/python3.10/dist-packages (from pandas>=1.1.4->ultralytics) (2023.4)\n",
            "Requirement already satisfied: tzdata>=2022.1 in /usr/local/lib/python3.10/dist-packages (from pandas>=1.1.4->ultralytics) (2024.1)\n",
            "Requirement already satisfied: charset-normalizer<4,>=2 in /usr/local/lib/python3.10/dist-packages (from requests>=2.23.0->ultralytics) (3.3.2)\n",
            "Requirement already satisfied: idna<4,>=2.5 in /usr/local/lib/python3.10/dist-packages (from requests>=2.23.0->ultralytics) (3.6)\n",
            "Requirement already satisfied: urllib3<3,>=1.21.1 in /usr/local/lib/python3.10/dist-packages (from requests>=2.23.0->ultralytics) (2.0.7)\n",
            "Requirement already satisfied: certifi>=2017.4.17 in /usr/local/lib/python3.10/dist-packages (from requests>=2.23.0->ultralytics) (2024.2.2)\n",
            "Requirement already satisfied: filelock in /usr/local/lib/python3.10/dist-packages (from torch>=1.8.0->ultralytics) (3.13.4)\n",
            "Requirement already satisfied: typing-extensions>=4.8.0 in /usr/local/lib/python3.10/dist-packages (from torch>=1.8.0->ultralytics) (4.11.0)\n",
            "Requirement already satisfied: sympy in /usr/local/lib/python3.10/dist-packages (from torch>=1.8.0->ultralytics) (1.12)\n",
            "Requirement already satisfied: networkx in /usr/local/lib/python3.10/dist-packages (from torch>=1.8.0->ultralytics) (3.3)\n",
            "Requirement already satisfied: jinja2 in /usr/local/lib/python3.10/dist-packages (from torch>=1.8.0->ultralytics) (3.1.3)\n",
            "Requirement already satisfied: fsspec in /usr/local/lib/python3.10/dist-packages (from torch>=1.8.0->ultralytics) (2023.6.0)\n",
            "Collecting nvidia-cuda-nvrtc-cu12==12.1.105 (from torch>=1.8.0->ultralytics)\n",
            "  Using cached nvidia_cuda_nvrtc_cu12-12.1.105-py3-none-manylinux1_x86_64.whl (23.7 MB)\n",
            "Collecting nvidia-cuda-runtime-cu12==12.1.105 (from torch>=1.8.0->ultralytics)\n",
            "  Using cached nvidia_cuda_runtime_cu12-12.1.105-py3-none-manylinux1_x86_64.whl (823 kB)\n",
            "Collecting nvidia-cuda-cupti-cu12==12.1.105 (from torch>=1.8.0->ultralytics)\n",
            "  Using cached nvidia_cuda_cupti_cu12-12.1.105-py3-none-manylinux1_x86_64.whl (14.1 MB)\n",
            "Collecting nvidia-cudnn-cu12==8.9.2.26 (from torch>=1.8.0->ultralytics)\n",
            "  Using cached nvidia_cudnn_cu12-8.9.2.26-py3-none-manylinux1_x86_64.whl (731.7 MB)\n",
            "Collecting nvidia-cublas-cu12==12.1.3.1 (from torch>=1.8.0->ultralytics)\n",
            "  Using cached nvidia_cublas_cu12-12.1.3.1-py3-none-manylinux1_x86_64.whl (410.6 MB)\n",
            "Collecting nvidia-cufft-cu12==11.0.2.54 (from torch>=1.8.0->ultralytics)\n",
            "  Using cached nvidia_cufft_cu12-11.0.2.54-py3-none-manylinux1_x86_64.whl (121.6 MB)\n",
            "Collecting nvidia-curand-cu12==10.3.2.106 (from torch>=1.8.0->ultralytics)\n",
            "  Using cached nvidia_curand_cu12-10.3.2.106-py3-none-manylinux1_x86_64.whl (56.5 MB)\n",
            "Collecting nvidia-cusolver-cu12==11.4.5.107 (from torch>=1.8.0->ultralytics)\n",
            "  Using cached nvidia_cusolver_cu12-11.4.5.107-py3-none-manylinux1_x86_64.whl (124.2 MB)\n",
            "Collecting nvidia-cusparse-cu12==12.1.0.106 (from torch>=1.8.0->ultralytics)\n",
            "  Using cached nvidia_cusparse_cu12-12.1.0.106-py3-none-manylinux1_x86_64.whl (196.0 MB)\n",
            "Collecting nvidia-nccl-cu12==2.19.3 (from torch>=1.8.0->ultralytics)\n",
            "  Using cached nvidia_nccl_cu12-2.19.3-py3-none-manylinux1_x86_64.whl (166.0 MB)\n",
            "Collecting nvidia-nvtx-cu12==12.1.105 (from torch>=1.8.0->ultralytics)\n",
            "  Using cached nvidia_nvtx_cu12-12.1.105-py3-none-manylinux1_x86_64.whl (99 kB)\n",
            "Requirement already satisfied: triton==2.2.0 in /usr/local/lib/python3.10/dist-packages (from torch>=1.8.0->ultralytics) (2.2.0)\n",
            "Collecting nvidia-nvjitlink-cu12 (from nvidia-cusolver-cu12==11.4.5.107->torch>=1.8.0->ultralytics)\n",
            "  Using cached nvidia_nvjitlink_cu12-12.4.127-py3-none-manylinux2014_x86_64.whl (21.1 MB)\n",
            "Requirement already satisfied: six>=1.5 in /usr/local/lib/python3.10/dist-packages (from python-dateutil>=2.7->matplotlib>=3.3.0->ultralytics) (1.16.0)\n",
            "Requirement already satisfied: MarkupSafe>=2.0 in /usr/local/lib/python3.10/dist-packages (from jinja2->torch>=1.8.0->ultralytics) (2.1.5)\n",
            "Requirement already satisfied: mpmath>=0.19 in /usr/local/lib/python3.10/dist-packages (from sympy->torch>=1.8.0->ultralytics) (1.3.0)\n",
            "Installing collected packages: nvidia-nvtx-cu12, nvidia-nvjitlink-cu12, nvidia-nccl-cu12, nvidia-curand-cu12, nvidia-cufft-cu12, nvidia-cuda-runtime-cu12, nvidia-cuda-nvrtc-cu12, nvidia-cuda-cupti-cu12, nvidia-cublas-cu12, nvidia-cusparse-cu12, nvidia-cudnn-cu12, nvidia-cusolver-cu12, thop, ultralytics\n",
            "Successfully installed nvidia-cublas-cu12-12.1.3.1 nvidia-cuda-cupti-cu12-12.1.105 nvidia-cuda-nvrtc-cu12-12.1.105 nvidia-cuda-runtime-cu12-12.1.105 nvidia-cudnn-cu12-8.9.2.26 nvidia-cufft-cu12-11.0.2.54 nvidia-curand-cu12-10.3.2.106 nvidia-cusolver-cu12-11.4.5.107 nvidia-cusparse-cu12-12.1.0.106 nvidia-nccl-cu12-2.19.3 nvidia-nvjitlink-cu12-12.4.127 nvidia-nvtx-cu12-12.1.105 thop-0.1.1.post2209072238 ultralytics-8.2.1\n"
          ]
        }
      ],
      "source": [
        "!pip install ultralytics"
      ]
    },
    {
      "cell_type": "code",
      "source": [
        "from ultralytics import YOLO\n",
        "from google.colab import drive\n",
        "import os"
      ],
      "metadata": {
        "id": "Sb9-8KghGkJc"
      },
      "execution_count": null,
      "outputs": []
    },
    {
      "cell_type": "markdown",
      "source": [
        "# Connect to Google Drive"
      ],
      "metadata": {
        "id": "sRrSzVOqFZLg"
      }
    },
    {
      "cell_type": "code",
      "source": [
        "drive.mount(\"/content/gdrive\")"
      ],
      "metadata": {
        "colab": {
          "base_uri": "https://localhost:8080/"
        },
        "id": "c0dxiYAHFW3U",
        "outputId": "e18b94f1-ef6e-4a8e-81b6-c3227c43e74d"
      },
      "execution_count": null,
      "outputs": [
        {
          "output_type": "stream",
          "name": "stdout",
          "text": [
            "Mounted at /content/gdrive\n"
          ]
        }
      ]
    },
    {
      "cell_type": "code",
      "source": [
        "ROOT_DIR = \"/content/gdrive/My Drive/Colab Notebooks/One_Page_Heads\""
      ],
      "metadata": {
        "id": "BpVgeKYpFbnN"
      },
      "execution_count": null,
      "outputs": []
    },
    {
      "cell_type": "markdown",
      "source": [
        "# Model"
      ],
      "metadata": {
        "id": "juWqGuJ4F_vo"
      }
    },
    {
      "cell_type": "code",
      "source": [
        "model = YOLO(\"yolov8l.yaml\")"
      ],
      "metadata": {
        "id": "p-tLppHSF9g1"
      },
      "execution_count": null,
      "outputs": []
    },
    {
      "cell_type": "code",
      "source": [
        "results = model.train(data=os.path.join(ROOT_DIR, \"data.yaml\"), epochs=25)"
      ],
      "metadata": {
        "colab": {
          "base_uri": "https://localhost:8080/"
        },
        "id": "PTDsIIh2GBH_",
        "outputId": "76450f7c-e08e-4030-f12a-38ae7a0e0684"
      },
      "execution_count": null,
      "outputs": [
        {
          "output_type": "stream",
          "name": "stdout",
          "text": [
            "Ultralytics YOLOv8.2.1 🚀 Python-3.10.12 torch-2.2.1+cu121 CUDA:0 (Tesla V100-SXM2-16GB, 16151MiB)\n",
            "\u001b[34m\u001b[1mengine/trainer: \u001b[0mtask=detect, mode=train, model=yolov8l.yaml, data=/content/gdrive/My Drive/Colab Notebooks/One_Page_Heads/data.yaml, epochs=25, time=None, patience=100, batch=16, imgsz=640, save=True, save_period=-1, cache=False, device=None, workers=8, project=None, name=train3, exist_ok=False, pretrained=True, optimizer=auto, verbose=True, seed=0, deterministic=True, single_cls=False, rect=False, cos_lr=False, close_mosaic=10, resume=False, amp=True, fraction=1.0, profile=False, freeze=None, multi_scale=False, overlap_mask=True, mask_ratio=4, dropout=0.0, val=True, split=val, save_json=False, save_hybrid=False, conf=None, iou=0.7, max_det=300, half=False, dnn=False, plots=True, source=None, vid_stride=1, stream_buffer=False, visualize=False, augment=False, agnostic_nms=False, classes=None, retina_masks=False, embed=None, show=False, save_frames=False, save_txt=False, save_conf=False, save_crop=False, show_labels=True, show_conf=True, show_boxes=True, line_width=None, format=torchscript, keras=False, optimize=False, int8=False, dynamic=False, simplify=False, opset=None, workspace=4, nms=False, lr0=0.01, lrf=0.01, momentum=0.937, weight_decay=0.0005, warmup_epochs=3.0, warmup_momentum=0.8, warmup_bias_lr=0.1, box=7.5, cls=0.5, dfl=1.5, pose=12.0, kobj=1.0, label_smoothing=0.0, nbs=64, hsv_h=0.015, hsv_s=0.7, hsv_v=0.4, degrees=0.0, translate=0.1, scale=0.5, shear=0.0, perspective=0.0, flipud=0.0, fliplr=0.5, bgr=0.0, mosaic=1.0, mixup=0.0, copy_paste=0.0, auto_augment=randaugment, erasing=0.4, crop_fraction=1.0, cfg=None, tracker=botsort.yaml, save_dir=runs/detect/train3\n",
            "Downloading https://ultralytics.com/assets/Arial.ttf to '/root/.config/Ultralytics/Arial.ttf'...\n"
          ]
        },
        {
          "output_type": "stream",
          "name": "stderr",
          "text": [
            "100%|██████████| 755k/755k [00:00<00:00, 15.7MB/s]\n"
          ]
        },
        {
          "output_type": "stream",
          "name": "stdout",
          "text": [
            "Overriding model.yaml nc=80 with nc=5\n",
            "\n",
            "                   from  n    params  module                                       arguments                     \n",
            "  0                  -1  1      1856  ultralytics.nn.modules.conv.Conv             [3, 64, 3, 2]                 \n",
            "  1                  -1  1     73984  ultralytics.nn.modules.conv.Conv             [64, 128, 3, 2]               \n",
            "  2                  -1  3    279808  ultralytics.nn.modules.block.C2f             [128, 128, 3, True]           \n",
            "  3                  -1  1    295424  ultralytics.nn.modules.conv.Conv             [128, 256, 3, 2]              \n",
            "  4                  -1  6   2101248  ultralytics.nn.modules.block.C2f             [256, 256, 6, True]           \n",
            "  5                  -1  1   1180672  ultralytics.nn.modules.conv.Conv             [256, 512, 3, 2]              \n",
            "  6                  -1  6   8396800  ultralytics.nn.modules.block.C2f             [512, 512, 6, True]           \n",
            "  7                  -1  1   2360320  ultralytics.nn.modules.conv.Conv             [512, 512, 3, 2]              \n",
            "  8                  -1  3   4461568  ultralytics.nn.modules.block.C2f             [512, 512, 3, True]           \n",
            "  9                  -1  1    656896  ultralytics.nn.modules.block.SPPF            [512, 512, 5]                 \n",
            " 10                  -1  1         0  torch.nn.modules.upsampling.Upsample         [None, 2, 'nearest']          \n",
            " 11             [-1, 6]  1         0  ultralytics.nn.modules.conv.Concat           [1]                           \n",
            " 12                  -1  3   4723712  ultralytics.nn.modules.block.C2f             [1024, 512, 3]                \n",
            " 13                  -1  1         0  torch.nn.modules.upsampling.Upsample         [None, 2, 'nearest']          \n",
            " 14             [-1, 4]  1         0  ultralytics.nn.modules.conv.Concat           [1]                           \n",
            " 15                  -1  3   1247744  ultralytics.nn.modules.block.C2f             [768, 256, 3]                 \n",
            " 16                  -1  1    590336  ultralytics.nn.modules.conv.Conv             [256, 256, 3, 2]              \n",
            " 17            [-1, 12]  1         0  ultralytics.nn.modules.conv.Concat           [1]                           \n",
            " 18                  -1  3   4592640  ultralytics.nn.modules.block.C2f             [768, 512, 3]                 \n",
            " 19                  -1  1   2360320  ultralytics.nn.modules.conv.Conv             [512, 512, 3, 2]              \n",
            " 20             [-1, 9]  1         0  ultralytics.nn.modules.conv.Concat           [1]                           \n",
            " 21                  -1  3   4723712  ultralytics.nn.modules.block.C2f             [1024, 512, 3]                \n",
            " 22        [15, 18, 21]  1   5586655  ultralytics.nn.modules.head.Detect           [5, [256, 512, 512]]          \n",
            "YOLOv8l summary: 365 layers, 43633695 parameters, 43633679 gradients, 165.4 GFLOPs\n",
            "\n",
            "\u001b[34m\u001b[1mTensorBoard: \u001b[0mStart with 'tensorboard --logdir runs/detect/train3', view at http://localhost:6006/\n",
            "Freezing layer 'model.22.dfl.conv.weight'\n",
            "\u001b[34m\u001b[1mAMP: \u001b[0mrunning Automatic Mixed Precision (AMP) checks with YOLOv8n...\n",
            "Downloading https://github.com/ultralytics/assets/releases/download/v8.2.0/yolov8n.pt to 'yolov8n.pt'...\n"
          ]
        },
        {
          "output_type": "stream",
          "name": "stderr",
          "text": [
            "100%|██████████| 6.23M/6.23M [00:00<00:00, 173MB/s]\n"
          ]
        },
        {
          "output_type": "stream",
          "name": "stdout",
          "text": [
            "\u001b[34m\u001b[1mAMP: \u001b[0mchecks passed ✅\n"
          ]
        },
        {
          "output_type": "stream",
          "name": "stderr",
          "text": [
            "\u001b[34m\u001b[1mtrain: \u001b[0mScanning /content/gdrive/My Drive/Colab Notebooks/One_Page_Heads/labels/train... 2292 images, 378 backgrounds, 0 corrupt: 100%|██████████| 2292/2292 [04:19<00:00,  8.85it/s]\n"
          ]
        },
        {
          "output_type": "stream",
          "name": "stdout",
          "text": [
            "\u001b[34m\u001b[1mtrain: \u001b[0mNew cache created: /content/gdrive/My Drive/Colab Notebooks/One_Page_Heads/labels/train.cache\n",
            "\u001b[34m\u001b[1malbumentations: \u001b[0mBlur(p=0.01, blur_limit=(3, 7)), MedianBlur(p=0.01, blur_limit=(3, 7)), ToGray(p=0.01), CLAHE(p=0.01, clip_limit=(1, 4.0), tile_grid_size=(8, 8))\n"
          ]
        },
        {
          "output_type": "stream",
          "name": "stderr",
          "text": [
            "/usr/lib/python3.10/multiprocessing/popen_fork.py:66: RuntimeWarning: os.fork() was called. os.fork() is incompatible with multithreaded code, and JAX is multithreaded, so this will likely lead to a deadlock.\n",
            "  self.pid = os.fork()\n",
            "\u001b[34m\u001b[1mval: \u001b[0mScanning /content/gdrive/My Drive/Colab Notebooks/One_Page_Heads/labels/val... 588 images, 551 backgrounds, 0 corrupt: 100%|██████████| 588/588 [00:09<00:00, 64.32it/s]\n"
          ]
        },
        {
          "output_type": "stream",
          "name": "stdout",
          "text": [
            "\u001b[34m\u001b[1mval: \u001b[0mNew cache created: /content/gdrive/My Drive/Colab Notebooks/One_Page_Heads/labels/val.cache\n",
            "Plotting labels to runs/detect/train3/labels.jpg... \n",
            "\u001b[34m\u001b[1moptimizer:\u001b[0m 'optimizer=auto' found, ignoring 'lr0=0.01' and 'momentum=0.937' and determining best 'optimizer', 'lr0' and 'momentum' automatically... \n",
            "\u001b[34m\u001b[1moptimizer:\u001b[0m AdamW(lr=0.001111, momentum=0.9) with parameter groups 97 weight(decay=0.0), 104 weight(decay=0.0005), 103 bias(decay=0.0)\n",
            "\u001b[34m\u001b[1mTensorBoard: \u001b[0mmodel graph visualization added ✅\n",
            "Image sizes 640 train, 640 val\n",
            "Using 8 dataloader workers\n",
            "Logging results to \u001b[1mruns/detect/train3\u001b[0m\n",
            "Starting training for 25 epochs...\n",
            "\n",
            "      Epoch    GPU_mem   box_loss   cls_loss   dfl_loss  Instances       Size\n"
          ]
        },
        {
          "output_type": "stream",
          "name": "stderr",
          "text": [
            "       1/25      11.2G      3.851      7.466      3.679          4        640: 100%|██████████| 144/144 [00:41<00:00,  3.44it/s]\n",
            "                 Class     Images  Instances      Box(P          R      mAP50  mAP50-95): 100%|██████████| 19/19 [00:05<00:00,  3.39it/s]"
          ]
        },
        {
          "output_type": "stream",
          "name": "stdout",
          "text": [
            "                   all        588         39   0.000118      0.394      0.017    0.00395\n"
          ]
        },
        {
          "output_type": "stream",
          "name": "stderr",
          "text": [
            "\n"
          ]
        },
        {
          "output_type": "stream",
          "name": "stdout",
          "text": [
            "\n",
            "      Epoch    GPU_mem   box_loss   cls_loss   dfl_loss  Instances       Size\n"
          ]
        },
        {
          "output_type": "stream",
          "name": "stderr",
          "text": [
            "       2/25      10.9G      2.899        4.8      2.805          6        640: 100%|██████████| 144/144 [00:38<00:00,  3.72it/s]\n",
            "                 Class     Images  Instances      Box(P          R      mAP50  mAP50-95): 100%|██████████| 19/19 [00:04<00:00,  4.31it/s]\n"
          ]
        },
        {
          "output_type": "stream",
          "name": "stdout",
          "text": [
            "                   all        588         39      0.404     0.0286    0.00334    0.00108\n",
            "\n",
            "      Epoch    GPU_mem   box_loss   cls_loss   dfl_loss  Instances       Size\n"
          ]
        },
        {
          "output_type": "stream",
          "name": "stderr",
          "text": [
            "       3/25      10.9G      2.611      3.821      2.411          3        640: 100%|██████████| 144/144 [00:37<00:00,  3.80it/s]\n",
            "                 Class     Images  Instances      Box(P          R      mAP50  mAP50-95): 100%|██████████| 19/19 [00:03<00:00,  4.81it/s]"
          ]
        },
        {
          "output_type": "stream",
          "name": "stdout",
          "text": [
            "                   all        588         39     0.0581      0.162     0.0302    0.00743\n"
          ]
        },
        {
          "output_type": "stream",
          "name": "stderr",
          "text": [
            "\n"
          ]
        },
        {
          "output_type": "stream",
          "name": "stdout",
          "text": [
            "\n",
            "      Epoch    GPU_mem   box_loss   cls_loss   dfl_loss  Instances       Size\n"
          ]
        },
        {
          "output_type": "stream",
          "name": "stderr",
          "text": [
            "       4/25      10.9G      2.418       3.21      2.193          3        640: 100%|██████████| 144/144 [00:37<00:00,  3.82it/s]\n",
            "                 Class     Images  Instances      Box(P          R      mAP50  mAP50-95): 100%|██████████| 19/19 [00:03<00:00,  4.78it/s]"
          ]
        },
        {
          "output_type": "stream",
          "name": "stdout",
          "text": [
            "                   all        588         39      0.121      0.364      0.148     0.0866\n"
          ]
        },
        {
          "output_type": "stream",
          "name": "stderr",
          "text": [
            "\n"
          ]
        },
        {
          "output_type": "stream",
          "name": "stdout",
          "text": [
            "\n",
            "      Epoch    GPU_mem   box_loss   cls_loss   dfl_loss  Instances       Size\n"
          ]
        },
        {
          "output_type": "stream",
          "name": "stderr",
          "text": [
            "       5/25      10.9G      2.232      2.776      2.011          5        640: 100%|██████████| 144/144 [00:37<00:00,  3.81it/s]\n",
            "                 Class     Images  Instances      Box(P          R      mAP50  mAP50-95): 100%|██████████| 19/19 [00:03<00:00,  5.04it/s]"
          ]
        },
        {
          "output_type": "stream",
          "name": "stdout",
          "text": [
            "                   all        588         39      0.164      0.208      0.208      0.104\n"
          ]
        },
        {
          "output_type": "stream",
          "name": "stderr",
          "text": [
            "\n"
          ]
        },
        {
          "output_type": "stream",
          "name": "stdout",
          "text": [
            "\n",
            "      Epoch    GPU_mem   box_loss   cls_loss   dfl_loss  Instances       Size\n"
          ]
        },
        {
          "output_type": "stream",
          "name": "stderr",
          "text": [
            "       6/25      10.9G      2.102      2.538      1.892          2        640: 100%|██████████| 144/144 [00:37<00:00,  3.81it/s]\n",
            "                 Class     Images  Instances      Box(P          R      mAP50  mAP50-95): 100%|██████████| 19/19 [00:03<00:00,  4.91it/s]"
          ]
        },
        {
          "output_type": "stream",
          "name": "stdout",
          "text": [
            "                   all        588         39      0.403       0.33      0.215      0.135\n"
          ]
        },
        {
          "output_type": "stream",
          "name": "stderr",
          "text": [
            "\n"
          ]
        },
        {
          "output_type": "stream",
          "name": "stdout",
          "text": [
            "\n",
            "      Epoch    GPU_mem   box_loss   cls_loss   dfl_loss  Instances       Size\n"
          ]
        },
        {
          "output_type": "stream",
          "name": "stderr",
          "text": [
            "       7/25      10.9G      1.988      2.315      1.841          3        640: 100%|██████████| 144/144 [00:37<00:00,  3.81it/s]\n",
            "                 Class     Images  Instances      Box(P          R      mAP50  mAP50-95): 100%|██████████| 19/19 [00:03<00:00,  4.80it/s]"
          ]
        },
        {
          "output_type": "stream",
          "name": "stdout",
          "text": [
            "                   all        588         39      0.635      0.397      0.355      0.225\n"
          ]
        },
        {
          "output_type": "stream",
          "name": "stderr",
          "text": [
            "\n"
          ]
        },
        {
          "output_type": "stream",
          "name": "stdout",
          "text": [
            "\n",
            "      Epoch    GPU_mem   box_loss   cls_loss   dfl_loss  Instances       Size\n"
          ]
        },
        {
          "output_type": "stream",
          "name": "stderr",
          "text": [
            "       8/25      10.9G      1.876      2.203      1.747          3        640: 100%|██████████| 144/144 [00:37<00:00,  3.80it/s]\n",
            "                 Class     Images  Instances      Box(P          R      mAP50  mAP50-95): 100%|██████████| 19/19 [00:03<00:00,  4.91it/s]"
          ]
        },
        {
          "output_type": "stream",
          "name": "stdout",
          "text": [
            "                   all        588         39      0.574      0.439      0.344      0.248\n"
          ]
        },
        {
          "output_type": "stream",
          "name": "stderr",
          "text": [
            "\n"
          ]
        },
        {
          "output_type": "stream",
          "name": "stdout",
          "text": [
            "\n",
            "      Epoch    GPU_mem   box_loss   cls_loss   dfl_loss  Instances       Size\n"
          ]
        },
        {
          "output_type": "stream",
          "name": "stderr",
          "text": [
            "       9/25      10.9G      1.844      2.107      1.725          5        640: 100%|██████████| 144/144 [00:37<00:00,  3.81it/s]\n",
            "                 Class     Images  Instances      Box(P          R      mAP50  mAP50-95): 100%|██████████| 19/19 [00:03<00:00,  4.80it/s]"
          ]
        },
        {
          "output_type": "stream",
          "name": "stdout",
          "text": [
            "                   all        588         39      0.471      0.577      0.384      0.256\n"
          ]
        },
        {
          "output_type": "stream",
          "name": "stderr",
          "text": [
            "\n"
          ]
        },
        {
          "output_type": "stream",
          "name": "stdout",
          "text": [
            "\n",
            "      Epoch    GPU_mem   box_loss   cls_loss   dfl_loss  Instances       Size\n"
          ]
        },
        {
          "output_type": "stream",
          "name": "stderr",
          "text": [
            "      10/25      10.9G      1.734      1.946      1.657          6        640: 100%|██████████| 144/144 [00:37<00:00,  3.79it/s]\n",
            "                 Class     Images  Instances      Box(P          R      mAP50  mAP50-95): 100%|██████████| 19/19 [00:03<00:00,  4.85it/s]"
          ]
        },
        {
          "output_type": "stream",
          "name": "stdout",
          "text": [
            "                   all        588         39      0.256      0.733      0.481      0.316\n"
          ]
        },
        {
          "output_type": "stream",
          "name": "stderr",
          "text": [
            "\n"
          ]
        },
        {
          "output_type": "stream",
          "name": "stdout",
          "text": [
            "\n",
            "      Epoch    GPU_mem   box_loss   cls_loss   dfl_loss  Instances       Size\n"
          ]
        },
        {
          "output_type": "stream",
          "name": "stderr",
          "text": [
            "      11/25      10.9G      1.688      1.851       1.64          3        640: 100%|██████████| 144/144 [00:37<00:00,  3.80it/s]\n",
            "                 Class     Images  Instances      Box(P          R      mAP50  mAP50-95): 100%|██████████| 19/19 [00:03<00:00,  4.94it/s]"
          ]
        },
        {
          "output_type": "stream",
          "name": "stdout",
          "text": [
            "                   all        588         39      0.213      0.711      0.503      0.329\n"
          ]
        },
        {
          "output_type": "stream",
          "name": "stderr",
          "text": [
            "\n"
          ]
        },
        {
          "output_type": "stream",
          "name": "stdout",
          "text": [
            "\n",
            "      Epoch    GPU_mem   box_loss   cls_loss   dfl_loss  Instances       Size\n"
          ]
        },
        {
          "output_type": "stream",
          "name": "stderr",
          "text": [
            "      12/25      10.9G      1.643      1.747        1.6          4        640: 100%|██████████| 144/144 [00:37<00:00,  3.80it/s]\n",
            "                 Class     Images  Instances      Box(P          R      mAP50  mAP50-95): 100%|██████████| 19/19 [00:03<00:00,  4.81it/s]"
          ]
        },
        {
          "output_type": "stream",
          "name": "stdout",
          "text": [
            "                   all        588         39       0.52      0.505      0.518      0.335\n"
          ]
        },
        {
          "output_type": "stream",
          "name": "stderr",
          "text": [
            "\n"
          ]
        },
        {
          "output_type": "stream",
          "name": "stdout",
          "text": [
            "\n",
            "      Epoch    GPU_mem   box_loss   cls_loss   dfl_loss  Instances       Size\n"
          ]
        },
        {
          "output_type": "stream",
          "name": "stderr",
          "text": [
            "      13/25      10.9G       1.58      1.673      1.531          5        640: 100%|██████████| 144/144 [00:37<00:00,  3.80it/s]\n",
            "                 Class     Images  Instances      Box(P          R      mAP50  mAP50-95): 100%|██████████| 19/19 [00:04<00:00,  4.68it/s]"
          ]
        },
        {
          "output_type": "stream",
          "name": "stdout",
          "text": [
            "                   all        588         39      0.425      0.603      0.495      0.357\n"
          ]
        },
        {
          "output_type": "stream",
          "name": "stderr",
          "text": [
            "\n"
          ]
        },
        {
          "output_type": "stream",
          "name": "stdout",
          "text": [
            "\n",
            "      Epoch    GPU_mem   box_loss   cls_loss   dfl_loss  Instances       Size\n"
          ]
        },
        {
          "output_type": "stream",
          "name": "stderr",
          "text": [
            "      14/25      10.9G       1.51      1.571      1.478          8        640: 100%|██████████| 144/144 [00:37<00:00,  3.79it/s]\n",
            "                 Class     Images  Instances      Box(P          R      mAP50  mAP50-95): 100%|██████████| 19/19 [00:03<00:00,  4.83it/s]"
          ]
        },
        {
          "output_type": "stream",
          "name": "stdout",
          "text": [
            "                   all        588         39      0.378      0.756      0.561       0.38\n"
          ]
        },
        {
          "output_type": "stream",
          "name": "stderr",
          "text": [
            "\n"
          ]
        },
        {
          "output_type": "stream",
          "name": "stdout",
          "text": [
            "\n",
            "      Epoch    GPU_mem   box_loss   cls_loss   dfl_loss  Instances       Size\n"
          ]
        },
        {
          "output_type": "stream",
          "name": "stderr",
          "text": [
            "      15/25      10.9G      1.473      1.498      1.459          6        640: 100%|██████████| 144/144 [00:37<00:00,  3.80it/s]\n",
            "                 Class     Images  Instances      Box(P          R      mAP50  mAP50-95): 100%|██████████| 19/19 [00:03<00:00,  4.78it/s]"
          ]
        },
        {
          "output_type": "stream",
          "name": "stdout",
          "text": [
            "                   all        588         39      0.542      0.549      0.526      0.374\n"
          ]
        },
        {
          "output_type": "stream",
          "name": "stderr",
          "text": [
            "\n"
          ]
        },
        {
          "output_type": "stream",
          "name": "stdout",
          "text": [
            "Closing dataloader mosaic\n",
            "\u001b[34m\u001b[1malbumentations: \u001b[0mBlur(p=0.01, blur_limit=(3, 7)), MedianBlur(p=0.01, blur_limit=(3, 7)), ToGray(p=0.01), CLAHE(p=0.01, clip_limit=(1, 4.0), tile_grid_size=(8, 8))\n"
          ]
        },
        {
          "output_type": "stream",
          "name": "stderr",
          "text": [
            "/usr/lib/python3.10/multiprocessing/popen_fork.py:66: RuntimeWarning: os.fork() was called. os.fork() is incompatible with multithreaded code, and JAX is multithreaded, so this will likely lead to a deadlock.\n",
            "  self.pid = os.fork()\n"
          ]
        },
        {
          "output_type": "stream",
          "name": "stdout",
          "text": [
            "\n",
            "      Epoch    GPU_mem   box_loss   cls_loss   dfl_loss  Instances       Size\n"
          ]
        },
        {
          "output_type": "stream",
          "name": "stderr",
          "text": [
            "      16/25      10.9G      1.383      1.409      1.464          3        640: 100%|██████████| 144/144 [00:40<00:00,  3.56it/s]\n",
            "                 Class     Images  Instances      Box(P          R      mAP50  mAP50-95): 100%|██████████| 19/19 [00:03<00:00,  4.76it/s]"
          ]
        },
        {
          "output_type": "stream",
          "name": "stdout",
          "text": [
            "                   all        588         39      0.554      0.775      0.711      0.527\n"
          ]
        },
        {
          "output_type": "stream",
          "name": "stderr",
          "text": [
            "\n"
          ]
        },
        {
          "output_type": "stream",
          "name": "stdout",
          "text": [
            "\n",
            "      Epoch    GPU_mem   box_loss   cls_loss   dfl_loss  Instances       Size\n"
          ]
        },
        {
          "output_type": "stream",
          "name": "stderr",
          "text": [
            "      17/25      10.9G      1.341      1.278      1.448          4        640: 100%|██████████| 144/144 [00:37<00:00,  3.80it/s]\n",
            "                 Class     Images  Instances      Box(P          R      mAP50  mAP50-95): 100%|██████████| 19/19 [00:03<00:00,  4.95it/s]"
          ]
        },
        {
          "output_type": "stream",
          "name": "stdout",
          "text": [
            "                   all        588         39      0.745      0.716      0.808      0.575\n"
          ]
        },
        {
          "output_type": "stream",
          "name": "stderr",
          "text": [
            "\n"
          ]
        },
        {
          "output_type": "stream",
          "name": "stdout",
          "text": [
            "\n",
            "      Epoch    GPU_mem   box_loss   cls_loss   dfl_loss  Instances       Size\n"
          ]
        },
        {
          "output_type": "stream",
          "name": "stderr",
          "text": [
            "      18/25      10.9G      1.277       1.19      1.396          3        640: 100%|██████████| 144/144 [00:37<00:00,  3.81it/s]\n",
            "                 Class     Images  Instances      Box(P          R      mAP50  mAP50-95): 100%|██████████| 19/19 [00:03<00:00,  4.78it/s]"
          ]
        },
        {
          "output_type": "stream",
          "name": "stdout",
          "text": [
            "                   all        588         39       0.76      0.651      0.761      0.523\n"
          ]
        },
        {
          "output_type": "stream",
          "name": "stderr",
          "text": [
            "\n"
          ]
        },
        {
          "output_type": "stream",
          "name": "stdout",
          "text": [
            "\n",
            "      Epoch    GPU_mem   box_loss   cls_loss   dfl_loss  Instances       Size\n"
          ]
        },
        {
          "output_type": "stream",
          "name": "stderr",
          "text": [
            "      19/25      10.9G      1.242      1.091      1.363          2        640: 100%|██████████| 144/144 [00:37<00:00,  3.80it/s]\n",
            "                 Class     Images  Instances      Box(P          R      mAP50  mAP50-95): 100%|██████████| 19/19 [00:03<00:00,  4.83it/s]"
          ]
        },
        {
          "output_type": "stream",
          "name": "stdout",
          "text": [
            "                   all        588         39      0.546      0.799      0.787      0.565\n"
          ]
        },
        {
          "output_type": "stream",
          "name": "stderr",
          "text": [
            "\n"
          ]
        },
        {
          "output_type": "stream",
          "name": "stdout",
          "text": [
            "\n",
            "      Epoch    GPU_mem   box_loss   cls_loss   dfl_loss  Instances       Size\n"
          ]
        },
        {
          "output_type": "stream",
          "name": "stderr",
          "text": [
            "      20/25      10.9G      1.203      1.059      1.353          4        640: 100%|██████████| 144/144 [00:37<00:00,  3.80it/s]\n",
            "                 Class     Images  Instances      Box(P          R      mAP50  mAP50-95): 100%|██████████| 19/19 [00:03<00:00,  4.88it/s]"
          ]
        },
        {
          "output_type": "stream",
          "name": "stdout",
          "text": [
            "                   all        588         39      0.759      0.717      0.757      0.558\n"
          ]
        },
        {
          "output_type": "stream",
          "name": "stderr",
          "text": [
            "\n"
          ]
        },
        {
          "output_type": "stream",
          "name": "stdout",
          "text": [
            "\n",
            "      Epoch    GPU_mem   box_loss   cls_loss   dfl_loss  Instances       Size\n"
          ]
        },
        {
          "output_type": "stream",
          "name": "stderr",
          "text": [
            "      21/25      10.9G       1.13     0.9268      1.285          3        640: 100%|██████████| 144/144 [00:37<00:00,  3.82it/s]\n",
            "                 Class     Images  Instances      Box(P          R      mAP50  mAP50-95): 100%|██████████| 19/19 [00:03<00:00,  4.89it/s]"
          ]
        },
        {
          "output_type": "stream",
          "name": "stdout",
          "text": [
            "                   all        588         39      0.831       0.72       0.81      0.607\n"
          ]
        },
        {
          "output_type": "stream",
          "name": "stderr",
          "text": [
            "\n"
          ]
        },
        {
          "output_type": "stream",
          "name": "stdout",
          "text": [
            "\n",
            "      Epoch    GPU_mem   box_loss   cls_loss   dfl_loss  Instances       Size\n"
          ]
        },
        {
          "output_type": "stream",
          "name": "stderr",
          "text": [
            "      22/25      10.9G      1.121     0.9026      1.281          4        640: 100%|██████████| 144/144 [00:37<00:00,  3.80it/s]\n",
            "                 Class     Images  Instances      Box(P          R      mAP50  mAP50-95): 100%|██████████| 19/19 [00:03<00:00,  4.88it/s]"
          ]
        },
        {
          "output_type": "stream",
          "name": "stdout",
          "text": [
            "                   all        588         39      0.774      0.822      0.867      0.653\n"
          ]
        },
        {
          "output_type": "stream",
          "name": "stderr",
          "text": [
            "\n"
          ]
        },
        {
          "output_type": "stream",
          "name": "stdout",
          "text": [
            "\n",
            "      Epoch    GPU_mem   box_loss   cls_loss   dfl_loss  Instances       Size\n"
          ]
        },
        {
          "output_type": "stream",
          "name": "stderr",
          "text": [
            "      23/25      10.9G      1.068     0.8424      1.252          2        640: 100%|██████████| 144/144 [00:37<00:00,  3.79it/s]\n",
            "                 Class     Images  Instances      Box(P          R      mAP50  mAP50-95): 100%|██████████| 19/19 [00:03<00:00,  4.91it/s]"
          ]
        },
        {
          "output_type": "stream",
          "name": "stdout",
          "text": [
            "                   all        588         39      0.795      0.757      0.856      0.635\n"
          ]
        },
        {
          "output_type": "stream",
          "name": "stderr",
          "text": [
            "\n"
          ]
        },
        {
          "output_type": "stream",
          "name": "stdout",
          "text": [
            "\n",
            "      Epoch    GPU_mem   box_loss   cls_loss   dfl_loss  Instances       Size\n"
          ]
        },
        {
          "output_type": "stream",
          "name": "stderr",
          "text": [
            "      24/25      10.9G      1.023     0.8114      1.222          1        640: 100%|██████████| 144/144 [00:37<00:00,  3.80it/s]\n",
            "                 Class     Images  Instances      Box(P          R      mAP50  mAP50-95): 100%|██████████| 19/19 [00:03<00:00,  4.85it/s]"
          ]
        },
        {
          "output_type": "stream",
          "name": "stdout",
          "text": [
            "                   all        588         39      0.804       0.81      0.881      0.655\n"
          ]
        },
        {
          "output_type": "stream",
          "name": "stderr",
          "text": [
            "\n"
          ]
        },
        {
          "output_type": "stream",
          "name": "stdout",
          "text": [
            "\n",
            "      Epoch    GPU_mem   box_loss   cls_loss   dfl_loss  Instances       Size\n"
          ]
        },
        {
          "output_type": "stream",
          "name": "stderr",
          "text": [
            "      25/25      10.9G     0.9746     0.7554      1.206          4        640: 100%|██████████| 144/144 [00:37<00:00,  3.79it/s]\n",
            "                 Class     Images  Instances      Box(P          R      mAP50  mAP50-95): 100%|██████████| 19/19 [00:03<00:00,  4.86it/s]"
          ]
        },
        {
          "output_type": "stream",
          "name": "stdout",
          "text": [
            "                   all        588         39      0.842      0.832      0.887      0.678\n"
          ]
        },
        {
          "output_type": "stream",
          "name": "stderr",
          "text": [
            "\n"
          ]
        },
        {
          "output_type": "stream",
          "name": "stdout",
          "text": [
            "\n",
            "25 epochs completed in 0.308 hours.\n",
            "Optimizer stripped from runs/detect/train3/weights/last.pt, 87.7MB\n",
            "Optimizer stripped from runs/detect/train3/weights/best.pt, 87.7MB\n",
            "\n",
            "Validating runs/detect/train3/weights/best.pt...\n",
            "Ultralytics YOLOv8.2.1 🚀 Python-3.10.12 torch-2.2.1+cu121 CUDA:0 (Tesla V100-SXM2-16GB, 16151MiB)\n",
            "YOLOv8l summary (fused): 268 layers, 43610463 parameters, 0 gradients, 164.8 GFLOPs\n"
          ]
        },
        {
          "output_type": "stream",
          "name": "stderr",
          "text": [
            "                 Class     Images  Instances      Box(P          R      mAP50  mAP50-95): 100%|██████████| 19/19 [00:04<00:00,  4.52it/s]\n"
          ]
        },
        {
          "output_type": "stream",
          "name": "stdout",
          "text": [
            "                   all        588         39      0.842      0.832      0.887      0.678\n",
            "                 Waldo        588          9      0.733      0.889      0.896      0.759\n",
            "                 Wenda        588          7      0.954          1      0.995      0.825\n",
            "                 Odlaw        588          7      0.822          1      0.889      0.728\n",
            "                Wizard        588          9      0.699      0.667       0.78      0.588\n",
            "                  Woof        588          7          1      0.604      0.878       0.49\n",
            "Speed: 0.1ms preprocess, 4.5ms inference, 0.0ms loss, 1.3ms postprocess per image\n",
            "Results saved to \u001b[1mruns/detect/train3\u001b[0m\n"
          ]
        }
      ]
    },
    {
      "cell_type": "code",
      "source": [
        "import locale\n",
        "try:\n",
        "    locale.setlocale(locale.LC_ALL, 'en_US.UTF-8')\n",
        "except locale.Error as e:\n",
        "    print(\"Error setting locale:\", e)"
      ],
      "metadata": {
        "id": "zEbpKIxeOA3G"
      },
      "execution_count": null,
      "outputs": []
    },
    {
      "cell_type": "code",
      "source": [
        "import os\n",
        "os.environ['LC_ALL'] = 'en_US.UTF-8'\n",
        "os.environ['LANG'] = 'en_US.UTF-8'"
      ],
      "metadata": {
        "id": "LbFgH2HjGFey"
      },
      "execution_count": null,
      "outputs": []
    },
    {
      "cell_type": "code",
      "source": [
        "import locale\n",
        "locale.getpreferredencoding = lambda: \"UTF-8\""
      ],
      "metadata": {
        "id": "NKqil1PNOtbi"
      },
      "execution_count": null,
      "outputs": []
    },
    {
      "cell_type": "code",
      "source": [
        "print(locale.getpreferredencoding())"
      ],
      "metadata": {
        "colab": {
          "base_uri": "https://localhost:8080/"
        },
        "id": "HRbuKBLHNuue",
        "outputId": "5ae2d6ce-c32c-4dbe-acce-148eb6d8b79b"
      },
      "execution_count": null,
      "outputs": [
        {
          "output_type": "stream",
          "name": "stdout",
          "text": [
            "UTF-8\n"
          ]
        }
      ]
    },
    {
      "cell_type": "code",
      "source": [
        "!scp -r /content/runs \"/content/gdrive/My Drive/Colab Notebooks/One_Page_Heads\""
      ],
      "metadata": {
        "id": "vC86f9MsNXO6"
      },
      "execution_count": null,
      "outputs": []
    },
    {
      "cell_type": "code",
      "source": [
        "# predict on all the test images\n",
        "\n",
        "results = model.predict(source=os.path.join(ROOT_DIR, \"images/test\"), save=True)\n"
      ],
      "metadata": {
        "colab": {
          "base_uri": "https://localhost:8080/"
        },
        "id": "_J7kmiNyQg3s",
        "outputId": "228a2c44-0a6a-41a3-8095-ef82412ac6c5"
      },
      "execution_count": null,
      "outputs": [
        {
          "output_type": "stream",
          "name": "stdout",
          "text": [
            "\n",
            "image 1/588 /content/gdrive/My Drive/Colab Notebooks/One_Page_Heads/images/test/IMG_5356.JPG_00.jpg: 640x640 (no detections), 16.1ms\n",
            "image 2/588 /content/gdrive/My Drive/Colab Notebooks/One_Page_Heads/images/test/IMG_5356.JPG_01.jpg: 640x640 1 Woof, 16.0ms\n",
            "image 3/588 /content/gdrive/My Drive/Colab Notebooks/One_Page_Heads/images/test/IMG_5356.JPG_02.jpg: 640x640 (no detections), 16.1ms\n",
            "image 4/588 /content/gdrive/My Drive/Colab Notebooks/One_Page_Heads/images/test/IMG_5356.JPG_03.jpg: 640x640 (no detections), 16.0ms\n",
            "image 5/588 /content/gdrive/My Drive/Colab Notebooks/One_Page_Heads/images/test/IMG_5356.JPG_04.jpg: 640x640 (no detections), 16.0ms\n",
            "image 6/588 /content/gdrive/My Drive/Colab Notebooks/One_Page_Heads/images/test/IMG_5356.JPG_05.jpg: 640x640 (no detections), 22.5ms\n",
            "image 7/588 /content/gdrive/My Drive/Colab Notebooks/One_Page_Heads/images/test/IMG_5356.JPG_06.jpg: 640x640 (no detections), 19.0ms\n",
            "image 8/588 /content/gdrive/My Drive/Colab Notebooks/One_Page_Heads/images/test/IMG_5356.JPG_07.jpg: 640x640 (no detections), 21.7ms\n",
            "image 9/588 /content/gdrive/My Drive/Colab Notebooks/One_Page_Heads/images/test/IMG_5356.JPG_08.jpg: 640x640 1 Waldo, 15.9ms\n",
            "image 10/588 /content/gdrive/My Drive/Colab Notebooks/One_Page_Heads/images/test/IMG_5356.JPG_09.jpg: 640x640 (no detections), 23.6ms\n",
            "image 11/588 /content/gdrive/My Drive/Colab Notebooks/One_Page_Heads/images/test/IMG_5356.JPG_10.jpg: 640x640 (no detections), 16.4ms\n",
            "image 12/588 /content/gdrive/My Drive/Colab Notebooks/One_Page_Heads/images/test/IMG_5356.JPG_11.jpg: 640x640 1 Odlaw, 1 Wizard, 16.1ms\n",
            "image 13/588 /content/gdrive/My Drive/Colab Notebooks/One_Page_Heads/images/test/IMG_5356.JPG_12.jpg: 640x640 (no detections), 16.0ms\n",
            "image 14/588 /content/gdrive/My Drive/Colab Notebooks/One_Page_Heads/images/test/IMG_5356.JPG_13.jpg: 640x640 (no detections), 15.9ms\n",
            "image 15/588 /content/gdrive/My Drive/Colab Notebooks/One_Page_Heads/images/test/IMG_5356.JPG_14.jpg: 640x640 (no detections), 16.0ms\n",
            "image 16/588 /content/gdrive/My Drive/Colab Notebooks/One_Page_Heads/images/test/IMG_5356.JPG_15.jpg: 640x640 (no detections), 15.9ms\n",
            "image 17/588 /content/gdrive/My Drive/Colab Notebooks/One_Page_Heads/images/test/IMG_5356.JPG_16.jpg: 640x640 (no detections), 15.9ms\n",
            "image 18/588 /content/gdrive/My Drive/Colab Notebooks/One_Page_Heads/images/test/IMG_5356.JPG_17.jpg: 640x640 (no detections), 16.3ms\n",
            "image 19/588 /content/gdrive/My Drive/Colab Notebooks/One_Page_Heads/images/test/IMG_5356.JPG_18.jpg: 640x640 3 Waldos, 1 Wenda, 15.9ms\n",
            "image 20/588 /content/gdrive/My Drive/Colab Notebooks/One_Page_Heads/images/test/IMG_5356.JPG_19.jpg: 640x640 2 Woofs, 15.9ms\n",
            "image 21/588 /content/gdrive/My Drive/Colab Notebooks/One_Page_Heads/images/test/IMG_5356.JPG_20.jpg: 640x640 (no detections), 15.9ms\n",
            "image 22/588 /content/gdrive/My Drive/Colab Notebooks/One_Page_Heads/images/test/IMG_5356.JPG_21.jpg: 640x640 1 Woof, 15.8ms\n",
            "image 23/588 /content/gdrive/My Drive/Colab Notebooks/One_Page_Heads/images/test/IMG_5356.JPG_22.jpg: 640x640 (no detections), 15.9ms\n",
            "image 24/588 /content/gdrive/My Drive/Colab Notebooks/One_Page_Heads/images/test/IMG_5356.JPG_23.jpg: 640x640 (no detections), 15.9ms\n",
            "image 25/588 /content/gdrive/My Drive/Colab Notebooks/One_Page_Heads/images/test/IMG_5356.JPG_24.jpg: 640x640 (no detections), 16.0ms\n",
            "image 26/588 /content/gdrive/My Drive/Colab Notebooks/One_Page_Heads/images/test/IMG_5356.JPG_25.jpg: 640x640 (no detections), 15.8ms\n",
            "image 27/588 /content/gdrive/My Drive/Colab Notebooks/One_Page_Heads/images/test/IMG_5356.JPG_26.jpg: 640x640 (no detections), 15.9ms\n",
            "image 28/588 /content/gdrive/My Drive/Colab Notebooks/One_Page_Heads/images/test/IMG_5356.JPG_27.jpg: 640x640 (no detections), 15.9ms\n",
            "image 29/588 /content/gdrive/My Drive/Colab Notebooks/One_Page_Heads/images/test/IMG_5356.JPG_28.jpg: 640x640 (no detections), 15.9ms\n",
            "image 30/588 /content/gdrive/My Drive/Colab Notebooks/One_Page_Heads/images/test/IMG_5356.JPG_29.jpg: 640x640 1 Waldo, 15.9ms\n",
            "image 31/588 /content/gdrive/My Drive/Colab Notebooks/One_Page_Heads/images/test/IMG_5356.JPG_30.jpg: 640x640 (no detections), 15.8ms\n",
            "image 32/588 /content/gdrive/My Drive/Colab Notebooks/One_Page_Heads/images/test/IMG_5356.JPG_31.jpg: 640x640 1 Wenda, 15.8ms\n",
            "image 33/588 /content/gdrive/My Drive/Colab Notebooks/One_Page_Heads/images/test/IMG_5356.JPG_32.jpg: 640x640 1 Waldo, 15.9ms\n",
            "image 34/588 /content/gdrive/My Drive/Colab Notebooks/One_Page_Heads/images/test/IMG_5356.JPG_33.jpg: 640x640 (no detections), 14.0ms\n",
            "image 35/588 /content/gdrive/My Drive/Colab Notebooks/One_Page_Heads/images/test/IMG_5356.JPG_34.jpg: 640x640 (no detections), 13.9ms\n",
            "image 36/588 /content/gdrive/My Drive/Colab Notebooks/One_Page_Heads/images/test/IMG_5356.JPG_35.jpg: 640x640 (no detections), 13.9ms\n",
            "image 37/588 /content/gdrive/My Drive/Colab Notebooks/One_Page_Heads/images/test/IMG_5356.JPG_36.jpg: 640x640 (no detections), 13.8ms\n",
            "image 38/588 /content/gdrive/My Drive/Colab Notebooks/One_Page_Heads/images/test/IMG_5356.JPG_37.jpg: 640x640 (no detections), 13.8ms\n",
            "image 39/588 /content/gdrive/My Drive/Colab Notebooks/One_Page_Heads/images/test/IMG_5356.JPG_38.jpg: 640x640 (no detections), 14.3ms\n",
            "image 40/588 /content/gdrive/My Drive/Colab Notebooks/One_Page_Heads/images/test/IMG_5356.JPG_39.jpg: 640x640 (no detections), 14.1ms\n",
            "image 41/588 /content/gdrive/My Drive/Colab Notebooks/One_Page_Heads/images/test/IMG_5356.JPG_40.jpg: 640x640 (no detections), 13.9ms\n",
            "image 42/588 /content/gdrive/My Drive/Colab Notebooks/One_Page_Heads/images/test/IMG_5356.JPG_41.jpg: 640x640 (no detections), 14.0ms\n",
            "image 43/588 /content/gdrive/My Drive/Colab Notebooks/One_Page_Heads/images/test/IMG_5357.JPG_00.jpg: 640x640 (no detections), 13.9ms\n",
            "image 44/588 /content/gdrive/My Drive/Colab Notebooks/One_Page_Heads/images/test/IMG_5357.JPG_01.jpg: 640x640 (no detections), 13.9ms\n",
            "image 45/588 /content/gdrive/My Drive/Colab Notebooks/One_Page_Heads/images/test/IMG_5357.JPG_02.jpg: 640x640 1 Woof, 13.9ms\n",
            "image 46/588 /content/gdrive/My Drive/Colab Notebooks/One_Page_Heads/images/test/IMG_5357.JPG_03.jpg: 640x640 (no detections), 13.9ms\n",
            "image 47/588 /content/gdrive/My Drive/Colab Notebooks/One_Page_Heads/images/test/IMG_5357.JPG_04.jpg: 640x640 (no detections), 13.9ms\n",
            "image 48/588 /content/gdrive/My Drive/Colab Notebooks/One_Page_Heads/images/test/IMG_5357.JPG_05.jpg: 640x640 (no detections), 14.8ms\n",
            "image 49/588 /content/gdrive/My Drive/Colab Notebooks/One_Page_Heads/images/test/IMG_5357.JPG_06.jpg: 640x640 (no detections), 14.0ms\n",
            "image 50/588 /content/gdrive/My Drive/Colab Notebooks/One_Page_Heads/images/test/IMG_5357.JPG_07.jpg: 640x640 (no detections), 13.9ms\n",
            "image 51/588 /content/gdrive/My Drive/Colab Notebooks/One_Page_Heads/images/test/IMG_5357.JPG_08.jpg: 640x640 (no detections), 13.8ms\n",
            "image 52/588 /content/gdrive/My Drive/Colab Notebooks/One_Page_Heads/images/test/IMG_5357.JPG_09.jpg: 640x640 1 Woof, 13.9ms\n",
            "image 53/588 /content/gdrive/My Drive/Colab Notebooks/One_Page_Heads/images/test/IMG_5357.JPG_10.jpg: 640x640 (no detections), 13.9ms\n",
            "image 54/588 /content/gdrive/My Drive/Colab Notebooks/One_Page_Heads/images/test/IMG_5357.JPG_11.jpg: 640x640 1 Wizard, 13.9ms\n",
            "image 55/588 /content/gdrive/My Drive/Colab Notebooks/One_Page_Heads/images/test/IMG_5357.JPG_12.jpg: 640x640 1 Odlaw, 1 Wizard, 13.8ms\n",
            "image 56/588 /content/gdrive/My Drive/Colab Notebooks/One_Page_Heads/images/test/IMG_5357.JPG_13.jpg: 640x640 (no detections), 13.9ms\n",
            "image 57/588 /content/gdrive/My Drive/Colab Notebooks/One_Page_Heads/images/test/IMG_5357.JPG_14.jpg: 640x640 (no detections), 13.8ms\n",
            "image 58/588 /content/gdrive/My Drive/Colab Notebooks/One_Page_Heads/images/test/IMG_5357.JPG_15.jpg: 640x640 (no detections), 13.9ms\n",
            "image 59/588 /content/gdrive/My Drive/Colab Notebooks/One_Page_Heads/images/test/IMG_5357.JPG_16.jpg: 640x640 (no detections), 13.9ms\n",
            "image 60/588 /content/gdrive/My Drive/Colab Notebooks/One_Page_Heads/images/test/IMG_5357.JPG_17.jpg: 640x640 (no detections), 13.9ms\n",
            "image 61/588 /content/gdrive/My Drive/Colab Notebooks/One_Page_Heads/images/test/IMG_5357.JPG_18.jpg: 640x640 (no detections), 13.9ms\n",
            "image 62/588 /content/gdrive/My Drive/Colab Notebooks/One_Page_Heads/images/test/IMG_5357.JPG_19.jpg: 640x640 (no detections), 13.9ms\n",
            "image 63/588 /content/gdrive/My Drive/Colab Notebooks/One_Page_Heads/images/test/IMG_5357.JPG_20.jpg: 640x640 (no detections), 14.2ms\n",
            "image 64/588 /content/gdrive/My Drive/Colab Notebooks/One_Page_Heads/images/test/IMG_5357.JPG_21.jpg: 640x640 (no detections), 13.9ms\n",
            "image 65/588 /content/gdrive/My Drive/Colab Notebooks/One_Page_Heads/images/test/IMG_5357.JPG_22.jpg: 640x640 (no detections), 13.9ms\n",
            "image 66/588 /content/gdrive/My Drive/Colab Notebooks/One_Page_Heads/images/test/IMG_5357.JPG_23.jpg: 640x640 (no detections), 14.0ms\n",
            "image 67/588 /content/gdrive/My Drive/Colab Notebooks/One_Page_Heads/images/test/IMG_5357.JPG_24.jpg: 640x640 (no detections), 14.0ms\n",
            "image 68/588 /content/gdrive/My Drive/Colab Notebooks/One_Page_Heads/images/test/IMG_5357.JPG_25.jpg: 640x640 (no detections), 13.9ms\n",
            "image 69/588 /content/gdrive/My Drive/Colab Notebooks/One_Page_Heads/images/test/IMG_5357.JPG_26.jpg: 640x640 (no detections), 13.9ms\n",
            "image 70/588 /content/gdrive/My Drive/Colab Notebooks/One_Page_Heads/images/test/IMG_5357.JPG_27.jpg: 640x640 (no detections), 14.0ms\n",
            "image 71/588 /content/gdrive/My Drive/Colab Notebooks/One_Page_Heads/images/test/IMG_5357.JPG_28.jpg: 640x640 (no detections), 13.9ms\n",
            "image 72/588 /content/gdrive/My Drive/Colab Notebooks/One_Page_Heads/images/test/IMG_5357.JPG_29.jpg: 640x640 (no detections), 13.9ms\n",
            "image 73/588 /content/gdrive/My Drive/Colab Notebooks/One_Page_Heads/images/test/IMG_5357.JPG_30.jpg: 640x640 (no detections), 13.9ms\n",
            "image 74/588 /content/gdrive/My Drive/Colab Notebooks/One_Page_Heads/images/test/IMG_5357.JPG_31.jpg: 640x640 (no detections), 13.9ms\n",
            "image 75/588 /content/gdrive/My Drive/Colab Notebooks/One_Page_Heads/images/test/IMG_5357.JPG_32.jpg: 640x640 (no detections), 13.9ms\n",
            "image 76/588 /content/gdrive/My Drive/Colab Notebooks/One_Page_Heads/images/test/IMG_5357.JPG_33.jpg: 640x640 (no detections), 13.9ms\n",
            "image 77/588 /content/gdrive/My Drive/Colab Notebooks/One_Page_Heads/images/test/IMG_5357.JPG_34.jpg: 640x640 (no detections), 14.0ms\n",
            "image 78/588 /content/gdrive/My Drive/Colab Notebooks/One_Page_Heads/images/test/IMG_5357.JPG_35.jpg: 640x640 (no detections), 13.9ms\n",
            "image 79/588 /content/gdrive/My Drive/Colab Notebooks/One_Page_Heads/images/test/IMG_5357.JPG_36.jpg: 640x640 (no detections), 13.9ms\n",
            "image 80/588 /content/gdrive/My Drive/Colab Notebooks/One_Page_Heads/images/test/IMG_5357.JPG_37.jpg: 640x640 (no detections), 13.8ms\n",
            "image 81/588 /content/gdrive/My Drive/Colab Notebooks/One_Page_Heads/images/test/IMG_5357.JPG_38.jpg: 640x640 (no detections), 13.8ms\n",
            "image 82/588 /content/gdrive/My Drive/Colab Notebooks/One_Page_Heads/images/test/IMG_5357.JPG_39.jpg: 640x640 (no detections), 13.9ms\n",
            "image 83/588 /content/gdrive/My Drive/Colab Notebooks/One_Page_Heads/images/test/IMG_5357.JPG_40.jpg: 640x640 (no detections), 13.9ms\n",
            "image 84/588 /content/gdrive/My Drive/Colab Notebooks/One_Page_Heads/images/test/IMG_5357.JPG_41.jpg: 640x640 (no detections), 13.8ms\n",
            "image 85/588 /content/gdrive/My Drive/Colab Notebooks/One_Page_Heads/images/test/IMG_5368.JPG_00.jpg: 640x640 (no detections), 13.9ms\n",
            "image 86/588 /content/gdrive/My Drive/Colab Notebooks/One_Page_Heads/images/test/IMG_5368.JPG_01.jpg: 640x640 (no detections), 13.9ms\n",
            "image 87/588 /content/gdrive/My Drive/Colab Notebooks/One_Page_Heads/images/test/IMG_5368.JPG_02.jpg: 640x640 (no detections), 13.9ms\n",
            "image 88/588 /content/gdrive/My Drive/Colab Notebooks/One_Page_Heads/images/test/IMG_5368.JPG_03.jpg: 640x640 (no detections), 13.9ms\n",
            "image 89/588 /content/gdrive/My Drive/Colab Notebooks/One_Page_Heads/images/test/IMG_5368.JPG_04.jpg: 640x640 (no detections), 13.8ms\n",
            "image 90/588 /content/gdrive/My Drive/Colab Notebooks/One_Page_Heads/images/test/IMG_5368.JPG_05.jpg: 640x640 (no detections), 13.9ms\n",
            "image 91/588 /content/gdrive/My Drive/Colab Notebooks/One_Page_Heads/images/test/IMG_5368.JPG_06.jpg: 640x640 (no detections), 13.8ms\n",
            "image 92/588 /content/gdrive/My Drive/Colab Notebooks/One_Page_Heads/images/test/IMG_5368.JPG_07.jpg: 640x640 (no detections), 13.9ms\n",
            "image 93/588 /content/gdrive/My Drive/Colab Notebooks/One_Page_Heads/images/test/IMG_5368.JPG_08.jpg: 640x640 (no detections), 14.0ms\n",
            "image 94/588 /content/gdrive/My Drive/Colab Notebooks/One_Page_Heads/images/test/IMG_5368.JPG_09.jpg: 640x640 (no detections), 13.9ms\n",
            "image 95/588 /content/gdrive/My Drive/Colab Notebooks/One_Page_Heads/images/test/IMG_5368.JPG_10.jpg: 640x640 (no detections), 13.9ms\n",
            "image 96/588 /content/gdrive/My Drive/Colab Notebooks/One_Page_Heads/images/test/IMG_5368.JPG_11.jpg: 640x640 (no detections), 13.9ms\n",
            "image 97/588 /content/gdrive/My Drive/Colab Notebooks/One_Page_Heads/images/test/IMG_5368.JPG_12.jpg: 640x640 (no detections), 13.9ms\n",
            "image 98/588 /content/gdrive/My Drive/Colab Notebooks/One_Page_Heads/images/test/IMG_5368.JPG_13.jpg: 640x640 (no detections), 15.2ms\n",
            "image 99/588 /content/gdrive/My Drive/Colab Notebooks/One_Page_Heads/images/test/IMG_5368.JPG_14.jpg: 640x640 (no detections), 13.8ms\n",
            "image 100/588 /content/gdrive/My Drive/Colab Notebooks/One_Page_Heads/images/test/IMG_5368.JPG_15.jpg: 640x640 1 Waldo, 15.6ms\n",
            "image 101/588 /content/gdrive/My Drive/Colab Notebooks/One_Page_Heads/images/test/IMG_5368.JPG_16.jpg: 640x640 1 Waldo, 14.2ms\n",
            "image 102/588 /content/gdrive/My Drive/Colab Notebooks/One_Page_Heads/images/test/IMG_5368.JPG_17.jpg: 640x640 (no detections), 13.9ms\n",
            "image 103/588 /content/gdrive/My Drive/Colab Notebooks/One_Page_Heads/images/test/IMG_5368.JPG_18.jpg: 640x640 1 Wenda, 15.4ms\n",
            "image 104/588 /content/gdrive/My Drive/Colab Notebooks/One_Page_Heads/images/test/IMG_5368.JPG_19.jpg: 640x640 (no detections), 14.9ms\n",
            "image 105/588 /content/gdrive/My Drive/Colab Notebooks/One_Page_Heads/images/test/IMG_5368.JPG_20.jpg: 640x640 (no detections), 13.9ms\n",
            "image 106/588 /content/gdrive/My Drive/Colab Notebooks/One_Page_Heads/images/test/IMG_5368.JPG_21.jpg: 640x640 (no detections), 13.9ms\n",
            "image 107/588 /content/gdrive/My Drive/Colab Notebooks/One_Page_Heads/images/test/IMG_5368.JPG_22.jpg: 640x640 (no detections), 14.0ms\n",
            "image 108/588 /content/gdrive/My Drive/Colab Notebooks/One_Page_Heads/images/test/IMG_5368.JPG_23.jpg: 640x640 (no detections), 13.9ms\n",
            "image 109/588 /content/gdrive/My Drive/Colab Notebooks/One_Page_Heads/images/test/IMG_5368.JPG_24.jpg: 640x640 (no detections), 14.0ms\n",
            "image 110/588 /content/gdrive/My Drive/Colab Notebooks/One_Page_Heads/images/test/IMG_5368.JPG_25.jpg: 640x640 (no detections), 13.9ms\n",
            "image 111/588 /content/gdrive/My Drive/Colab Notebooks/One_Page_Heads/images/test/IMG_5368.JPG_26.jpg: 640x640 (no detections), 13.8ms\n",
            "image 112/588 /content/gdrive/My Drive/Colab Notebooks/One_Page_Heads/images/test/IMG_5368.JPG_27.jpg: 640x640 (no detections), 13.9ms\n",
            "image 113/588 /content/gdrive/My Drive/Colab Notebooks/One_Page_Heads/images/test/IMG_5368.JPG_28.jpg: 640x640 (no detections), 13.9ms\n",
            "image 114/588 /content/gdrive/My Drive/Colab Notebooks/One_Page_Heads/images/test/IMG_5368.JPG_29.jpg: 640x640 (no detections), 13.9ms\n",
            "image 115/588 /content/gdrive/My Drive/Colab Notebooks/One_Page_Heads/images/test/IMG_5368.JPG_30.jpg: 640x640 (no detections), 13.8ms\n",
            "image 116/588 /content/gdrive/My Drive/Colab Notebooks/One_Page_Heads/images/test/IMG_5368.JPG_31.jpg: 640x640 (no detections), 13.9ms\n",
            "image 117/588 /content/gdrive/My Drive/Colab Notebooks/One_Page_Heads/images/test/IMG_5368.JPG_32.jpg: 640x640 (no detections), 13.9ms\n",
            "image 118/588 /content/gdrive/My Drive/Colab Notebooks/One_Page_Heads/images/test/IMG_5368.JPG_33.jpg: 640x640 (no detections), 14.0ms\n",
            "image 119/588 /content/gdrive/My Drive/Colab Notebooks/One_Page_Heads/images/test/IMG_5368.JPG_34.jpg: 640x640 (no detections), 13.9ms\n",
            "image 120/588 /content/gdrive/My Drive/Colab Notebooks/One_Page_Heads/images/test/IMG_5368.JPG_35.jpg: 640x640 (no detections), 13.9ms\n",
            "image 121/588 /content/gdrive/My Drive/Colab Notebooks/One_Page_Heads/images/test/IMG_5368.JPG_36.jpg: 640x640 (no detections), 13.9ms\n",
            "image 122/588 /content/gdrive/My Drive/Colab Notebooks/One_Page_Heads/images/test/IMG_5368.JPG_37.jpg: 640x640 (no detections), 15.2ms\n",
            "image 123/588 /content/gdrive/My Drive/Colab Notebooks/One_Page_Heads/images/test/IMG_5368.JPG_38.jpg: 640x640 (no detections), 13.8ms\n",
            "image 124/588 /content/gdrive/My Drive/Colab Notebooks/One_Page_Heads/images/test/IMG_5368.JPG_39.jpg: 640x640 (no detections), 16.2ms\n",
            "image 125/588 /content/gdrive/My Drive/Colab Notebooks/One_Page_Heads/images/test/IMG_5368.JPG_40.jpg: 640x640 (no detections), 14.7ms\n",
            "image 126/588 /content/gdrive/My Drive/Colab Notebooks/One_Page_Heads/images/test/IMG_5368.JPG_41.jpg: 640x640 (no detections), 13.9ms\n",
            "image 127/588 /content/gdrive/My Drive/Colab Notebooks/One_Page_Heads/images/test/IMG_5369.JPG_00.jpg: 640x640 (no detections), 13.9ms\n",
            "image 128/588 /content/gdrive/My Drive/Colab Notebooks/One_Page_Heads/images/test/IMG_5369.JPG_01.jpg: 640x640 (no detections), 13.9ms\n",
            "image 129/588 /content/gdrive/My Drive/Colab Notebooks/One_Page_Heads/images/test/IMG_5369.JPG_02.jpg: 640x640 (no detections), 13.9ms\n",
            "image 130/588 /content/gdrive/My Drive/Colab Notebooks/One_Page_Heads/images/test/IMG_5369.JPG_03.jpg: 640x640 (no detections), 13.9ms\n",
            "image 131/588 /content/gdrive/My Drive/Colab Notebooks/One_Page_Heads/images/test/IMG_5369.JPG_04.jpg: 640x640 (no detections), 14.3ms\n",
            "image 132/588 /content/gdrive/My Drive/Colab Notebooks/One_Page_Heads/images/test/IMG_5369.JPG_05.jpg: 640x640 (no detections), 15.1ms\n",
            "image 133/588 /content/gdrive/My Drive/Colab Notebooks/One_Page_Heads/images/test/IMG_5369.JPG_06.jpg: 640x640 (no detections), 14.4ms\n",
            "image 134/588 /content/gdrive/My Drive/Colab Notebooks/One_Page_Heads/images/test/IMG_5369.JPG_07.jpg: 640x640 (no detections), 14.2ms\n",
            "image 135/588 /content/gdrive/My Drive/Colab Notebooks/One_Page_Heads/images/test/IMG_5369.JPG_08.jpg: 640x640 (no detections), 13.9ms\n",
            "image 136/588 /content/gdrive/My Drive/Colab Notebooks/One_Page_Heads/images/test/IMG_5369.JPG_09.jpg: 640x640 (no detections), 13.9ms\n",
            "image 137/588 /content/gdrive/My Drive/Colab Notebooks/One_Page_Heads/images/test/IMG_5369.JPG_10.jpg: 640x640 1 Woof, 13.8ms\n",
            "image 138/588 /content/gdrive/My Drive/Colab Notebooks/One_Page_Heads/images/test/IMG_5369.JPG_11.jpg: 640x640 1 Odlaw, 13.9ms\n",
            "image 139/588 /content/gdrive/My Drive/Colab Notebooks/One_Page_Heads/images/test/IMG_5369.JPG_12.jpg: 640x640 1 Wizard, 13.9ms\n",
            "image 140/588 /content/gdrive/My Drive/Colab Notebooks/One_Page_Heads/images/test/IMG_5369.JPG_13.jpg: 640x640 (no detections), 14.0ms\n",
            "image 141/588 /content/gdrive/My Drive/Colab Notebooks/One_Page_Heads/images/test/IMG_5369.JPG_14.jpg: 640x640 (no detections), 13.9ms\n",
            "image 142/588 /content/gdrive/My Drive/Colab Notebooks/One_Page_Heads/images/test/IMG_5369.JPG_15.jpg: 640x640 (no detections), 13.8ms\n",
            "image 143/588 /content/gdrive/My Drive/Colab Notebooks/One_Page_Heads/images/test/IMG_5369.JPG_16.jpg: 640x640 (no detections), 14.0ms\n",
            "image 144/588 /content/gdrive/My Drive/Colab Notebooks/One_Page_Heads/images/test/IMG_5369.JPG_17.jpg: 640x640 (no detections), 14.0ms\n",
            "image 145/588 /content/gdrive/My Drive/Colab Notebooks/One_Page_Heads/images/test/IMG_5369.JPG_18.jpg: 640x640 1 Waldo, 13.9ms\n",
            "image 146/588 /content/gdrive/My Drive/Colab Notebooks/One_Page_Heads/images/test/IMG_5369.JPG_19.jpg: 640x640 (no detections), 13.9ms\n",
            "image 147/588 /content/gdrive/My Drive/Colab Notebooks/One_Page_Heads/images/test/IMG_5369.JPG_20.jpg: 640x640 (no detections), 13.9ms\n",
            "image 148/588 /content/gdrive/My Drive/Colab Notebooks/One_Page_Heads/images/test/IMG_5369.JPG_21.jpg: 640x640 (no detections), 15.1ms\n",
            "image 149/588 /content/gdrive/My Drive/Colab Notebooks/One_Page_Heads/images/test/IMG_5369.JPG_22.jpg: 640x640 (no detections), 14.7ms\n",
            "image 150/588 /content/gdrive/My Drive/Colab Notebooks/One_Page_Heads/images/test/IMG_5369.JPG_23.jpg: 640x640 (no detections), 14.0ms\n",
            "image 151/588 /content/gdrive/My Drive/Colab Notebooks/One_Page_Heads/images/test/IMG_5369.JPG_24.jpg: 640x640 (no detections), 13.9ms\n",
            "image 152/588 /content/gdrive/My Drive/Colab Notebooks/One_Page_Heads/images/test/IMG_5369.JPG_25.jpg: 640x640 (no detections), 13.9ms\n",
            "image 153/588 /content/gdrive/My Drive/Colab Notebooks/One_Page_Heads/images/test/IMG_5369.JPG_26.jpg: 640x640 (no detections), 14.0ms\n",
            "image 154/588 /content/gdrive/My Drive/Colab Notebooks/One_Page_Heads/images/test/IMG_5369.JPG_27.jpg: 640x640 (no detections), 13.9ms\n",
            "image 155/588 /content/gdrive/My Drive/Colab Notebooks/One_Page_Heads/images/test/IMG_5369.JPG_28.jpg: 640x640 (no detections), 13.9ms\n",
            "image 156/588 /content/gdrive/My Drive/Colab Notebooks/One_Page_Heads/images/test/IMG_5369.JPG_29.jpg: 640x640 (no detections), 13.8ms\n",
            "image 157/588 /content/gdrive/My Drive/Colab Notebooks/One_Page_Heads/images/test/IMG_5369.JPG_30.jpg: 640x640 (no detections), 13.9ms\n",
            "image 158/588 /content/gdrive/My Drive/Colab Notebooks/One_Page_Heads/images/test/IMG_5369.JPG_31.jpg: 640x640 (no detections), 13.8ms\n",
            "image 159/588 /content/gdrive/My Drive/Colab Notebooks/One_Page_Heads/images/test/IMG_5369.JPG_32.jpg: 640x640 1 Odlaw, 13.9ms\n",
            "image 160/588 /content/gdrive/My Drive/Colab Notebooks/One_Page_Heads/images/test/IMG_5369.JPG_33.jpg: 640x640 (no detections), 14.2ms\n",
            "image 161/588 /content/gdrive/My Drive/Colab Notebooks/One_Page_Heads/images/test/IMG_5369.JPG_34.jpg: 640x640 (no detections), 13.9ms\n",
            "image 162/588 /content/gdrive/My Drive/Colab Notebooks/One_Page_Heads/images/test/IMG_5369.JPG_35.jpg: 640x640 (no detections), 15.4ms\n",
            "image 163/588 /content/gdrive/My Drive/Colab Notebooks/One_Page_Heads/images/test/IMG_5369.JPG_36.jpg: 640x640 (no detections), 14.3ms\n",
            "image 164/588 /content/gdrive/My Drive/Colab Notebooks/One_Page_Heads/images/test/IMG_5369.JPG_37.jpg: 640x640 (no detections), 13.9ms\n",
            "image 165/588 /content/gdrive/My Drive/Colab Notebooks/One_Page_Heads/images/test/IMG_5369.JPG_38.jpg: 640x640 (no detections), 13.9ms\n",
            "image 166/588 /content/gdrive/My Drive/Colab Notebooks/One_Page_Heads/images/test/IMG_5369.JPG_39.jpg: 640x640 (no detections), 13.9ms\n",
            "image 167/588 /content/gdrive/My Drive/Colab Notebooks/One_Page_Heads/images/test/IMG_5369.JPG_40.jpg: 640x640 (no detections), 14.1ms\n",
            "image 168/588 /content/gdrive/My Drive/Colab Notebooks/One_Page_Heads/images/test/IMG_5369.JPG_41.jpg: 640x640 (no detections), 13.9ms\n",
            "image 169/588 /content/gdrive/My Drive/Colab Notebooks/One_Page_Heads/images/test/IMG_5382.JPG_00.jpg: 640x640 (no detections), 14.0ms\n",
            "image 170/588 /content/gdrive/My Drive/Colab Notebooks/One_Page_Heads/images/test/IMG_5382.JPG_01.jpg: 640x640 (no detections), 13.9ms\n",
            "image 171/588 /content/gdrive/My Drive/Colab Notebooks/One_Page_Heads/images/test/IMG_5382.JPG_02.jpg: 640x640 (no detections), 13.9ms\n",
            "image 172/588 /content/gdrive/My Drive/Colab Notebooks/One_Page_Heads/images/test/IMG_5382.JPG_03.jpg: 640x640 (no detections), 13.8ms\n",
            "image 173/588 /content/gdrive/My Drive/Colab Notebooks/One_Page_Heads/images/test/IMG_5382.JPG_04.jpg: 640x640 (no detections), 13.8ms\n",
            "image 174/588 /content/gdrive/My Drive/Colab Notebooks/One_Page_Heads/images/test/IMG_5382.JPG_05.jpg: 640x640 (no detections), 13.9ms\n",
            "image 175/588 /content/gdrive/My Drive/Colab Notebooks/One_Page_Heads/images/test/IMG_5382.JPG_06.jpg: 640x640 (no detections), 13.8ms\n",
            "image 176/588 /content/gdrive/My Drive/Colab Notebooks/One_Page_Heads/images/test/IMG_5382.JPG_07.jpg: 640x640 1 Odlaw, 13.9ms\n",
            "image 177/588 /content/gdrive/My Drive/Colab Notebooks/One_Page_Heads/images/test/IMG_5382.JPG_08.jpg: 640x640 (no detections), 13.9ms\n",
            "image 178/588 /content/gdrive/My Drive/Colab Notebooks/One_Page_Heads/images/test/IMG_5382.JPG_09.jpg: 640x640 1 Waldo, 13.8ms\n",
            "image 179/588 /content/gdrive/My Drive/Colab Notebooks/One_Page_Heads/images/test/IMG_5382.JPG_10.jpg: 640x640 (no detections), 14.0ms\n",
            "image 180/588 /content/gdrive/My Drive/Colab Notebooks/One_Page_Heads/images/test/IMG_5382.JPG_11.jpg: 640x640 (no detections), 15.1ms\n",
            "image 181/588 /content/gdrive/My Drive/Colab Notebooks/One_Page_Heads/images/test/IMG_5382.JPG_12.jpg: 640x640 (no detections), 13.9ms\n",
            "image 182/588 /content/gdrive/My Drive/Colab Notebooks/One_Page_Heads/images/test/IMG_5382.JPG_13.jpg: 640x640 (no detections), 13.9ms\n",
            "image 183/588 /content/gdrive/My Drive/Colab Notebooks/One_Page_Heads/images/test/IMG_5382.JPG_14.jpg: 640x640 (no detections), 13.9ms\n",
            "image 184/588 /content/gdrive/My Drive/Colab Notebooks/One_Page_Heads/images/test/IMG_5382.JPG_15.jpg: 640x640 (no detections), 13.9ms\n",
            "image 185/588 /content/gdrive/My Drive/Colab Notebooks/One_Page_Heads/images/test/IMG_5382.JPG_16.jpg: 640x640 (no detections), 13.9ms\n",
            "image 186/588 /content/gdrive/My Drive/Colab Notebooks/One_Page_Heads/images/test/IMG_5382.JPG_17.jpg: 640x640 (no detections), 13.8ms\n",
            "image 187/588 /content/gdrive/My Drive/Colab Notebooks/One_Page_Heads/images/test/IMG_5382.JPG_18.jpg: 640x640 (no detections), 13.9ms\n",
            "image 188/588 /content/gdrive/My Drive/Colab Notebooks/One_Page_Heads/images/test/IMG_5382.JPG_19.jpg: 640x640 (no detections), 14.0ms\n",
            "image 189/588 /content/gdrive/My Drive/Colab Notebooks/One_Page_Heads/images/test/IMG_5382.JPG_20.jpg: 640x640 (no detections), 13.9ms\n",
            "image 190/588 /content/gdrive/My Drive/Colab Notebooks/One_Page_Heads/images/test/IMG_5382.JPG_21.jpg: 640x640 (no detections), 13.9ms\n",
            "image 191/588 /content/gdrive/My Drive/Colab Notebooks/One_Page_Heads/images/test/IMG_5382.JPG_22.jpg: 640x640 (no detections), 14.0ms\n",
            "image 192/588 /content/gdrive/My Drive/Colab Notebooks/One_Page_Heads/images/test/IMG_5382.JPG_23.jpg: 640x640 (no detections), 13.9ms\n",
            "image 193/588 /content/gdrive/My Drive/Colab Notebooks/One_Page_Heads/images/test/IMG_5382.JPG_24.jpg: 640x640 (no detections), 13.9ms\n",
            "image 194/588 /content/gdrive/My Drive/Colab Notebooks/One_Page_Heads/images/test/IMG_5382.JPG_25.jpg: 640x640 1 Woof, 13.9ms\n",
            "image 195/588 /content/gdrive/My Drive/Colab Notebooks/One_Page_Heads/images/test/IMG_5382.JPG_26.jpg: 640x640 1 Wenda, 14.0ms\n",
            "image 196/588 /content/gdrive/My Drive/Colab Notebooks/One_Page_Heads/images/test/IMG_5382.JPG_27.jpg: 640x640 2 Waldos, 13.8ms\n",
            "image 197/588 /content/gdrive/My Drive/Colab Notebooks/One_Page_Heads/images/test/IMG_5382.JPG_28.jpg: 640x640 1 Waldo, 13.9ms\n",
            "image 198/588 /content/gdrive/My Drive/Colab Notebooks/One_Page_Heads/images/test/IMG_5382.JPG_29.jpg: 640x640 (no detections), 13.9ms\n",
            "image 199/588 /content/gdrive/My Drive/Colab Notebooks/One_Page_Heads/images/test/IMG_5382.JPG_30.jpg: 640x640 (no detections), 13.9ms\n",
            "image 200/588 /content/gdrive/My Drive/Colab Notebooks/One_Page_Heads/images/test/IMG_5382.JPG_31.jpg: 640x640 (no detections), 13.9ms\n",
            "image 201/588 /content/gdrive/My Drive/Colab Notebooks/One_Page_Heads/images/test/IMG_5382.JPG_32.jpg: 640x640 1 Waldo, 13.9ms\n",
            "image 202/588 /content/gdrive/My Drive/Colab Notebooks/One_Page_Heads/images/test/IMG_5382.JPG_33.jpg: 640x640 1 Wenda, 1 Odlaw, 1 Wizard, 2 Woofs, 13.8ms\n",
            "image 203/588 /content/gdrive/My Drive/Colab Notebooks/One_Page_Heads/images/test/IMG_5382.JPG_34.jpg: 640x640 (no detections), 15.2ms\n",
            "image 204/588 /content/gdrive/My Drive/Colab Notebooks/One_Page_Heads/images/test/IMG_5382.JPG_35.jpg: 640x640 (no detections), 14.8ms\n",
            "image 205/588 /content/gdrive/My Drive/Colab Notebooks/One_Page_Heads/images/test/IMG_5382.JPG_36.jpg: 640x640 1 Woof, 13.9ms\n",
            "image 206/588 /content/gdrive/My Drive/Colab Notebooks/One_Page_Heads/images/test/IMG_5382.JPG_37.jpg: 640x640 1 Woof, 13.9ms\n",
            "image 207/588 /content/gdrive/My Drive/Colab Notebooks/One_Page_Heads/images/test/IMG_5382.JPG_38.jpg: 640x640 (no detections), 13.9ms\n",
            "image 208/588 /content/gdrive/My Drive/Colab Notebooks/One_Page_Heads/images/test/IMG_5382.JPG_39.jpg: 640x640 (no detections), 13.8ms\n",
            "image 209/588 /content/gdrive/My Drive/Colab Notebooks/One_Page_Heads/images/test/IMG_5382.JPG_40.jpg: 640x640 (no detections), 13.8ms\n",
            "image 210/588 /content/gdrive/My Drive/Colab Notebooks/One_Page_Heads/images/test/IMG_5382.JPG_41.jpg: 640x640 (no detections), 13.9ms\n",
            "image 211/588 /content/gdrive/My Drive/Colab Notebooks/One_Page_Heads/images/test/IMG_5383.JPG_00.jpg: 640x640 (no detections), 13.9ms\n",
            "image 212/588 /content/gdrive/My Drive/Colab Notebooks/One_Page_Heads/images/test/IMG_5383.JPG_01.jpg: 640x640 1 Waldo, 1 Wenda, 14.1ms\n",
            "image 213/588 /content/gdrive/My Drive/Colab Notebooks/One_Page_Heads/images/test/IMG_5383.JPG_02.jpg: 640x640 (no detections), 13.9ms\n",
            "image 214/588 /content/gdrive/My Drive/Colab Notebooks/One_Page_Heads/images/test/IMG_5383.JPG_03.jpg: 640x640 (no detections), 13.9ms\n",
            "image 215/588 /content/gdrive/My Drive/Colab Notebooks/One_Page_Heads/images/test/IMG_5383.JPG_04.jpg: 640x640 (no detections), 13.9ms\n",
            "image 216/588 /content/gdrive/My Drive/Colab Notebooks/One_Page_Heads/images/test/IMG_5383.JPG_05.jpg: 640x640 (no detections), 16.2ms\n",
            "image 217/588 /content/gdrive/My Drive/Colab Notebooks/One_Page_Heads/images/test/IMG_5383.JPG_06.jpg: 640x640 (no detections), 14.0ms\n",
            "image 218/588 /content/gdrive/My Drive/Colab Notebooks/One_Page_Heads/images/test/IMG_5383.JPG_07.jpg: 640x640 (no detections), 14.8ms\n",
            "image 219/588 /content/gdrive/My Drive/Colab Notebooks/One_Page_Heads/images/test/IMG_5383.JPG_08.jpg: 640x640 (no detections), 14.0ms\n",
            "image 220/588 /content/gdrive/My Drive/Colab Notebooks/One_Page_Heads/images/test/IMG_5383.JPG_09.jpg: 640x640 (no detections), 14.0ms\n",
            "image 221/588 /content/gdrive/My Drive/Colab Notebooks/One_Page_Heads/images/test/IMG_5383.JPG_10.jpg: 640x640 (no detections), 14.0ms\n",
            "image 222/588 /content/gdrive/My Drive/Colab Notebooks/One_Page_Heads/images/test/IMG_5383.JPG_11.jpg: 640x640 (no detections), 14.0ms\n",
            "image 223/588 /content/gdrive/My Drive/Colab Notebooks/One_Page_Heads/images/test/IMG_5383.JPG_12.jpg: 640x640 (no detections), 16.1ms\n",
            "image 224/588 /content/gdrive/My Drive/Colab Notebooks/One_Page_Heads/images/test/IMG_5383.JPG_13.jpg: 640x640 (no detections), 14.6ms\n",
            "image 225/588 /content/gdrive/My Drive/Colab Notebooks/One_Page_Heads/images/test/IMG_5383.JPG_14.jpg: 640x640 (no detections), 15.9ms\n",
            "image 226/588 /content/gdrive/My Drive/Colab Notebooks/One_Page_Heads/images/test/IMG_5383.JPG_15.jpg: 640x640 (no detections), 14.1ms\n",
            "image 227/588 /content/gdrive/My Drive/Colab Notebooks/One_Page_Heads/images/test/IMG_5383.JPG_16.jpg: 640x640 (no detections), 13.9ms\n",
            "image 228/588 /content/gdrive/My Drive/Colab Notebooks/One_Page_Heads/images/test/IMG_5383.JPG_17.jpg: 640x640 (no detections), 13.9ms\n",
            "image 229/588 /content/gdrive/My Drive/Colab Notebooks/One_Page_Heads/images/test/IMG_5383.JPG_18.jpg: 640x640 (no detections), 15.0ms\n",
            "image 230/588 /content/gdrive/My Drive/Colab Notebooks/One_Page_Heads/images/test/IMG_5383.JPG_19.jpg: 640x640 (no detections), 13.9ms\n",
            "image 231/588 /content/gdrive/My Drive/Colab Notebooks/One_Page_Heads/images/test/IMG_5383.JPG_20.jpg: 640x640 1 Odlaw, 13.9ms\n",
            "image 232/588 /content/gdrive/My Drive/Colab Notebooks/One_Page_Heads/images/test/IMG_5383.JPG_21.jpg: 640x640 (no detections), 14.0ms\n",
            "image 233/588 /content/gdrive/My Drive/Colab Notebooks/One_Page_Heads/images/test/IMG_5383.JPG_22.jpg: 640x640 (no detections), 14.2ms\n",
            "image 234/588 /content/gdrive/My Drive/Colab Notebooks/One_Page_Heads/images/test/IMG_5383.JPG_23.jpg: 640x640 (no detections), 14.5ms\n",
            "image 235/588 /content/gdrive/My Drive/Colab Notebooks/One_Page_Heads/images/test/IMG_5383.JPG_24.jpg: 640x640 (no detections), 14.0ms\n",
            "image 236/588 /content/gdrive/My Drive/Colab Notebooks/One_Page_Heads/images/test/IMG_5383.JPG_25.jpg: 640x640 1 Wizard, 15.2ms\n",
            "image 237/588 /content/gdrive/My Drive/Colab Notebooks/One_Page_Heads/images/test/IMG_5383.JPG_26.jpg: 640x640 (no detections), 14.6ms\n",
            "image 238/588 /content/gdrive/My Drive/Colab Notebooks/One_Page_Heads/images/test/IMG_5383.JPG_27.jpg: 640x640 (no detections), 14.2ms\n",
            "image 239/588 /content/gdrive/My Drive/Colab Notebooks/One_Page_Heads/images/test/IMG_5383.JPG_28.jpg: 640x640 (no detections), 14.0ms\n",
            "image 240/588 /content/gdrive/My Drive/Colab Notebooks/One_Page_Heads/images/test/IMG_5383.JPG_29.jpg: 640x640 (no detections), 14.0ms\n",
            "image 241/588 /content/gdrive/My Drive/Colab Notebooks/One_Page_Heads/images/test/IMG_5383.JPG_30.jpg: 640x640 (no detections), 13.9ms\n",
            "image 242/588 /content/gdrive/My Drive/Colab Notebooks/One_Page_Heads/images/test/IMG_5383.JPG_31.jpg: 640x640 (no detections), 14.0ms\n",
            "image 243/588 /content/gdrive/My Drive/Colab Notebooks/One_Page_Heads/images/test/IMG_5383.JPG_32.jpg: 640x640 1 Wenda, 14.0ms\n",
            "image 244/588 /content/gdrive/My Drive/Colab Notebooks/One_Page_Heads/images/test/IMG_5383.JPG_33.jpg: 640x640 (no detections), 14.2ms\n",
            "image 245/588 /content/gdrive/My Drive/Colab Notebooks/One_Page_Heads/images/test/IMG_5383.JPG_34.jpg: 640x640 (no detections), 13.9ms\n",
            "image 246/588 /content/gdrive/My Drive/Colab Notebooks/One_Page_Heads/images/test/IMG_5383.JPG_35.jpg: 640x640 (no detections), 14.0ms\n",
            "image 247/588 /content/gdrive/My Drive/Colab Notebooks/One_Page_Heads/images/test/IMG_5383.JPG_36.jpg: 640x640 (no detections), 14.1ms\n",
            "image 248/588 /content/gdrive/My Drive/Colab Notebooks/One_Page_Heads/images/test/IMG_5383.JPG_37.jpg: 640x640 (no detections), 14.2ms\n",
            "image 249/588 /content/gdrive/My Drive/Colab Notebooks/One_Page_Heads/images/test/IMG_5383.JPG_38.jpg: 640x640 (no detections), 14.0ms\n",
            "image 250/588 /content/gdrive/My Drive/Colab Notebooks/One_Page_Heads/images/test/IMG_5383.JPG_39.jpg: 640x640 (no detections), 14.2ms\n",
            "image 251/588 /content/gdrive/My Drive/Colab Notebooks/One_Page_Heads/images/test/IMG_5383.JPG_40.jpg: 640x640 (no detections), 15.3ms\n",
            "image 252/588 /content/gdrive/My Drive/Colab Notebooks/One_Page_Heads/images/test/IMG_5383.JPG_41.jpg: 640x640 (no detections), 14.1ms\n",
            "image 253/588 /content/gdrive/My Drive/Colab Notebooks/One_Page_Heads/images/test/IMG_5408.JPG_00.jpg: 640x640 (no detections), 13.9ms\n",
            "image 254/588 /content/gdrive/My Drive/Colab Notebooks/One_Page_Heads/images/test/IMG_5408.JPG_01.jpg: 640x640 (no detections), 16.8ms\n",
            "image 255/588 /content/gdrive/My Drive/Colab Notebooks/One_Page_Heads/images/test/IMG_5408.JPG_02.jpg: 640x640 (no detections), 15.7ms\n",
            "image 256/588 /content/gdrive/My Drive/Colab Notebooks/One_Page_Heads/images/test/IMG_5408.JPG_03.jpg: 640x640 (no detections), 14.0ms\n",
            "image 257/588 /content/gdrive/My Drive/Colab Notebooks/One_Page_Heads/images/test/IMG_5408.JPG_04.jpg: 640x640 (no detections), 14.0ms\n",
            "image 258/588 /content/gdrive/My Drive/Colab Notebooks/One_Page_Heads/images/test/IMG_5408.JPG_05.jpg: 640x640 (no detections), 14.0ms\n",
            "image 259/588 /content/gdrive/My Drive/Colab Notebooks/One_Page_Heads/images/test/IMG_5408.JPG_06.jpg: 640x640 (no detections), 18.7ms\n",
            "image 260/588 /content/gdrive/My Drive/Colab Notebooks/One_Page_Heads/images/test/IMG_5408.JPG_07.jpg: 640x640 1 Woof, 14.0ms\n",
            "image 261/588 /content/gdrive/My Drive/Colab Notebooks/One_Page_Heads/images/test/IMG_5408.JPG_08.jpg: 640x640 1 Waldo, 14.1ms\n",
            "image 262/588 /content/gdrive/My Drive/Colab Notebooks/One_Page_Heads/images/test/IMG_5408.JPG_09.jpg: 640x640 (no detections), 14.0ms\n",
            "image 263/588 /content/gdrive/My Drive/Colab Notebooks/One_Page_Heads/images/test/IMG_5408.JPG_10.jpg: 640x640 (no detections), 14.3ms\n",
            "image 264/588 /content/gdrive/My Drive/Colab Notebooks/One_Page_Heads/images/test/IMG_5408.JPG_11.jpg: 640x640 (no detections), 16.0ms\n",
            "image 265/588 /content/gdrive/My Drive/Colab Notebooks/One_Page_Heads/images/test/IMG_5408.JPG_12.jpg: 640x640 (no detections), 14.9ms\n",
            "image 266/588 /content/gdrive/My Drive/Colab Notebooks/One_Page_Heads/images/test/IMG_5408.JPG_13.jpg: 640x640 1 Wenda, 14.7ms\n",
            "image 267/588 /content/gdrive/My Drive/Colab Notebooks/One_Page_Heads/images/test/IMG_5408.JPG_14.jpg: 640x640 (no detections), 15.5ms\n",
            "image 268/588 /content/gdrive/My Drive/Colab Notebooks/One_Page_Heads/images/test/IMG_5408.JPG_15.jpg: 640x640 (no detections), 14.0ms\n",
            "image 269/588 /content/gdrive/My Drive/Colab Notebooks/One_Page_Heads/images/test/IMG_5408.JPG_16.jpg: 640x640 (no detections), 14.0ms\n",
            "image 270/588 /content/gdrive/My Drive/Colab Notebooks/One_Page_Heads/images/test/IMG_5408.JPG_17.jpg: 640x640 (no detections), 14.0ms\n",
            "image 271/588 /content/gdrive/My Drive/Colab Notebooks/One_Page_Heads/images/test/IMG_5408.JPG_18.jpg: 640x640 1 Woof, 13.9ms\n",
            "image 272/588 /content/gdrive/My Drive/Colab Notebooks/One_Page_Heads/images/test/IMG_5408.JPG_19.jpg: 640x640 (no detections), 17.0ms\n",
            "image 273/588 /content/gdrive/My Drive/Colab Notebooks/One_Page_Heads/images/test/IMG_5408.JPG_20.jpg: 640x640 (no detections), 15.9ms\n",
            "image 274/588 /content/gdrive/My Drive/Colab Notebooks/One_Page_Heads/images/test/IMG_5408.JPG_21.jpg: 640x640 (no detections), 13.9ms\n",
            "image 275/588 /content/gdrive/My Drive/Colab Notebooks/One_Page_Heads/images/test/IMG_5408.JPG_22.jpg: 640x640 (no detections), 14.1ms\n",
            "image 276/588 /content/gdrive/My Drive/Colab Notebooks/One_Page_Heads/images/test/IMG_5408.JPG_23.jpg: 640x640 (no detections), 13.9ms\n",
            "image 277/588 /content/gdrive/My Drive/Colab Notebooks/One_Page_Heads/images/test/IMG_5408.JPG_24.jpg: 640x640 1 Waldo, 1 Odlaw, 13.9ms\n",
            "image 278/588 /content/gdrive/My Drive/Colab Notebooks/One_Page_Heads/images/test/IMG_5408.JPG_25.jpg: 640x640 1 Odlaw, 13.9ms\n",
            "image 279/588 /content/gdrive/My Drive/Colab Notebooks/One_Page_Heads/images/test/IMG_5408.JPG_26.jpg: 640x640 1 Odlaw, 13.9ms\n",
            "image 280/588 /content/gdrive/My Drive/Colab Notebooks/One_Page_Heads/images/test/IMG_5408.JPG_27.jpg: 640x640 2 Waldos, 1 Wenda, 13.9ms\n",
            "image 281/588 /content/gdrive/My Drive/Colab Notebooks/One_Page_Heads/images/test/IMG_5408.JPG_28.jpg: 640x640 (no detections), 14.0ms\n",
            "image 282/588 /content/gdrive/My Drive/Colab Notebooks/One_Page_Heads/images/test/IMG_5408.JPG_29.jpg: 640x640 (no detections), 13.9ms\n",
            "image 283/588 /content/gdrive/My Drive/Colab Notebooks/One_Page_Heads/images/test/IMG_5408.JPG_30.jpg: 640x640 (no detections), 14.0ms\n",
            "image 284/588 /content/gdrive/My Drive/Colab Notebooks/One_Page_Heads/images/test/IMG_5408.JPG_31.jpg: 640x640 (no detections), 13.9ms\n",
            "image 285/588 /content/gdrive/My Drive/Colab Notebooks/One_Page_Heads/images/test/IMG_5408.JPG_32.jpg: 640x640 1 Waldo, 1 Wenda, 1 Woof, 13.9ms\n",
            "image 286/588 /content/gdrive/My Drive/Colab Notebooks/One_Page_Heads/images/test/IMG_5408.JPG_33.jpg: 640x640 1 Wenda, 1 Odlaw, 1 Wizard, 14.1ms\n",
            "image 287/588 /content/gdrive/My Drive/Colab Notebooks/One_Page_Heads/images/test/IMG_5408.JPG_34.jpg: 640x640 (no detections), 13.9ms\n",
            "image 288/588 /content/gdrive/My Drive/Colab Notebooks/One_Page_Heads/images/test/IMG_5408.JPG_35.jpg: 640x640 (no detections), 13.9ms\n",
            "image 289/588 /content/gdrive/My Drive/Colab Notebooks/One_Page_Heads/images/test/IMG_5408.JPG_36.jpg: 640x640 (no detections), 14.3ms\n",
            "image 290/588 /content/gdrive/My Drive/Colab Notebooks/One_Page_Heads/images/test/IMG_5408.JPG_37.jpg: 640x640 (no detections), 14.0ms\n",
            "image 291/588 /content/gdrive/My Drive/Colab Notebooks/One_Page_Heads/images/test/IMG_5408.JPG_38.jpg: 640x640 (no detections), 15.6ms\n",
            "image 292/588 /content/gdrive/My Drive/Colab Notebooks/One_Page_Heads/images/test/IMG_5408.JPG_39.jpg: 640x640 (no detections), 13.9ms\n",
            "image 293/588 /content/gdrive/My Drive/Colab Notebooks/One_Page_Heads/images/test/IMG_5408.JPG_40.jpg: 640x640 (no detections), 13.9ms\n",
            "image 294/588 /content/gdrive/My Drive/Colab Notebooks/One_Page_Heads/images/test/IMG_5408.JPG_41.jpg: 640x640 (no detections), 14.3ms\n",
            "image 295/588 /content/gdrive/My Drive/Colab Notebooks/One_Page_Heads/images/test/IMG_5409.JPG_00.jpg: 640x640 (no detections), 13.9ms\n",
            "image 296/588 /content/gdrive/My Drive/Colab Notebooks/One_Page_Heads/images/test/IMG_5409.JPG_01.jpg: 640x640 (no detections), 14.0ms\n",
            "image 297/588 /content/gdrive/My Drive/Colab Notebooks/One_Page_Heads/images/test/IMG_5409.JPG_02.jpg: 640x640 (no detections), 13.9ms\n",
            "image 298/588 /content/gdrive/My Drive/Colab Notebooks/One_Page_Heads/images/test/IMG_5409.JPG_03.jpg: 640x640 1 Wizard, 14.0ms\n",
            "image 299/588 /content/gdrive/My Drive/Colab Notebooks/One_Page_Heads/images/test/IMG_5409.JPG_04.jpg: 640x640 (no detections), 13.9ms\n",
            "image 300/588 /content/gdrive/My Drive/Colab Notebooks/One_Page_Heads/images/test/IMG_5409.JPG_05.jpg: 640x640 (no detections), 13.9ms\n",
            "image 301/588 /content/gdrive/My Drive/Colab Notebooks/One_Page_Heads/images/test/IMG_5409.JPG_06.jpg: 640x640 (no detections), 15.6ms\n",
            "image 302/588 /content/gdrive/My Drive/Colab Notebooks/One_Page_Heads/images/test/IMG_5409.JPG_07.jpg: 640x640 1 Odlaw, 14.0ms\n",
            "image 303/588 /content/gdrive/My Drive/Colab Notebooks/One_Page_Heads/images/test/IMG_5409.JPG_08.jpg: 640x640 1 Woof, 16.1ms\n",
            "image 304/588 /content/gdrive/My Drive/Colab Notebooks/One_Page_Heads/images/test/IMG_5409.JPG_09.jpg: 640x640 1 Odlaw, 14.0ms\n",
            "image 305/588 /content/gdrive/My Drive/Colab Notebooks/One_Page_Heads/images/test/IMG_5409.JPG_10.jpg: 640x640 (no detections), 16.0ms\n",
            "image 306/588 /content/gdrive/My Drive/Colab Notebooks/One_Page_Heads/images/test/IMG_5409.JPG_11.jpg: 640x640 (no detections), 15.3ms\n",
            "image 307/588 /content/gdrive/My Drive/Colab Notebooks/One_Page_Heads/images/test/IMG_5409.JPG_12.jpg: 640x640 (no detections), 14.0ms\n",
            "image 308/588 /content/gdrive/My Drive/Colab Notebooks/One_Page_Heads/images/test/IMG_5409.JPG_13.jpg: 640x640 (no detections), 14.0ms\n",
            "image 309/588 /content/gdrive/My Drive/Colab Notebooks/One_Page_Heads/images/test/IMG_5409.JPG_14.jpg: 640x640 (no detections), 17.0ms\n",
            "image 310/588 /content/gdrive/My Drive/Colab Notebooks/One_Page_Heads/images/test/IMG_5409.JPG_15.jpg: 640x640 1 Waldo, 14.6ms\n",
            "image 311/588 /content/gdrive/My Drive/Colab Notebooks/One_Page_Heads/images/test/IMG_5409.JPG_16.jpg: 640x640 1 Waldo, 14.0ms\n",
            "image 312/588 /content/gdrive/My Drive/Colab Notebooks/One_Page_Heads/images/test/IMG_5409.JPG_17.jpg: 640x640 (no detections), 14.0ms\n",
            "image 313/588 /content/gdrive/My Drive/Colab Notebooks/One_Page_Heads/images/test/IMG_5409.JPG_18.jpg: 640x640 (no detections), 14.0ms\n",
            "image 314/588 /content/gdrive/My Drive/Colab Notebooks/One_Page_Heads/images/test/IMG_5409.JPG_19.jpg: 640x640 (no detections), 14.1ms\n",
            "image 315/588 /content/gdrive/My Drive/Colab Notebooks/One_Page_Heads/images/test/IMG_5409.JPG_20.jpg: 640x640 1 Woof, 14.0ms\n",
            "image 316/588 /content/gdrive/My Drive/Colab Notebooks/One_Page_Heads/images/test/IMG_5409.JPG_21.jpg: 640x640 (no detections), 13.9ms\n",
            "image 317/588 /content/gdrive/My Drive/Colab Notebooks/One_Page_Heads/images/test/IMG_5409.JPG_22.jpg: 640x640 (no detections), 13.9ms\n",
            "image 318/588 /content/gdrive/My Drive/Colab Notebooks/One_Page_Heads/images/test/IMG_5409.JPG_23.jpg: 640x640 (no detections), 14.1ms\n",
            "image 319/588 /content/gdrive/My Drive/Colab Notebooks/One_Page_Heads/images/test/IMG_5409.JPG_24.jpg: 640x640 (no detections), 14.1ms\n",
            "image 320/588 /content/gdrive/My Drive/Colab Notebooks/One_Page_Heads/images/test/IMG_5409.JPG_25.jpg: 640x640 (no detections), 14.0ms\n",
            "image 321/588 /content/gdrive/My Drive/Colab Notebooks/One_Page_Heads/images/test/IMG_5409.JPG_26.jpg: 640x640 (no detections), 14.0ms\n",
            "image 322/588 /content/gdrive/My Drive/Colab Notebooks/One_Page_Heads/images/test/IMG_5409.JPG_27.jpg: 640x640 (no detections), 13.9ms\n",
            "image 323/588 /content/gdrive/My Drive/Colab Notebooks/One_Page_Heads/images/test/IMG_5409.JPG_28.jpg: 640x640 (no detections), 14.0ms\n",
            "image 324/588 /content/gdrive/My Drive/Colab Notebooks/One_Page_Heads/images/test/IMG_5409.JPG_29.jpg: 640x640 (no detections), 13.9ms\n",
            "image 325/588 /content/gdrive/My Drive/Colab Notebooks/One_Page_Heads/images/test/IMG_5409.JPG_30.jpg: 640x640 1 Wenda, 13.9ms\n",
            "image 326/588 /content/gdrive/My Drive/Colab Notebooks/One_Page_Heads/images/test/IMG_5409.JPG_31.jpg: 640x640 1 Wizard, 13.9ms\n",
            "image 327/588 /content/gdrive/My Drive/Colab Notebooks/One_Page_Heads/images/test/IMG_5409.JPG_32.jpg: 640x640 (no detections), 13.9ms\n",
            "image 328/588 /content/gdrive/My Drive/Colab Notebooks/One_Page_Heads/images/test/IMG_5409.JPG_33.jpg: 640x640 (no detections), 13.9ms\n",
            "image 329/588 /content/gdrive/My Drive/Colab Notebooks/One_Page_Heads/images/test/IMG_5409.JPG_34.jpg: 640x640 1 Woof, 14.0ms\n",
            "image 330/588 /content/gdrive/My Drive/Colab Notebooks/One_Page_Heads/images/test/IMG_5409.JPG_35.jpg: 640x640 (no detections), 14.0ms\n",
            "image 331/588 /content/gdrive/My Drive/Colab Notebooks/One_Page_Heads/images/test/IMG_5409.JPG_36.jpg: 640x640 (no detections), 13.9ms\n",
            "image 332/588 /content/gdrive/My Drive/Colab Notebooks/One_Page_Heads/images/test/IMG_5409.JPG_37.jpg: 640x640 (no detections), 13.9ms\n",
            "image 333/588 /content/gdrive/My Drive/Colab Notebooks/One_Page_Heads/images/test/IMG_5409.JPG_38.jpg: 640x640 (no detections), 13.9ms\n",
            "image 334/588 /content/gdrive/My Drive/Colab Notebooks/One_Page_Heads/images/test/IMG_5409.JPG_39.jpg: 640x640 (no detections), 13.9ms\n",
            "image 335/588 /content/gdrive/My Drive/Colab Notebooks/One_Page_Heads/images/test/IMG_5409.JPG_40.jpg: 640x640 (no detections), 14.3ms\n",
            "image 336/588 /content/gdrive/My Drive/Colab Notebooks/One_Page_Heads/images/test/IMG_5409.JPG_41.jpg: 640x640 (no detections), 13.9ms\n",
            "image 337/588 /content/gdrive/My Drive/Colab Notebooks/One_Page_Heads/images/test/IMG_5486.JPG_00.jpg: 640x640 (no detections), 13.9ms\n",
            "image 338/588 /content/gdrive/My Drive/Colab Notebooks/One_Page_Heads/images/test/IMG_5486.JPG_01.jpg: 640x640 (no detections), 14.0ms\n",
            "image 339/588 /content/gdrive/My Drive/Colab Notebooks/One_Page_Heads/images/test/IMG_5486.JPG_02.jpg: 640x640 (no detections), 15.9ms\n",
            "image 340/588 /content/gdrive/My Drive/Colab Notebooks/One_Page_Heads/images/test/IMG_5486.JPG_03.jpg: 640x640 (no detections), 13.9ms\n",
            "image 341/588 /content/gdrive/My Drive/Colab Notebooks/One_Page_Heads/images/test/IMG_5486.JPG_04.jpg: 640x640 (no detections), 13.9ms\n",
            "image 342/588 /content/gdrive/My Drive/Colab Notebooks/One_Page_Heads/images/test/IMG_5486.JPG_05.jpg: 640x640 (no detections), 14.0ms\n",
            "image 343/588 /content/gdrive/My Drive/Colab Notebooks/One_Page_Heads/images/test/IMG_5486.JPG_06.jpg: 640x640 (no detections), 13.9ms\n",
            "image 344/588 /content/gdrive/My Drive/Colab Notebooks/One_Page_Heads/images/test/IMG_5486.JPG_07.jpg: 640x640 (no detections), 13.9ms\n",
            "image 345/588 /content/gdrive/My Drive/Colab Notebooks/One_Page_Heads/images/test/IMG_5486.JPG_08.jpg: 640x640 (no detections), 18.5ms\n",
            "image 346/588 /content/gdrive/My Drive/Colab Notebooks/One_Page_Heads/images/test/IMG_5486.JPG_09.jpg: 640x640 (no detections), 14.5ms\n",
            "image 347/588 /content/gdrive/My Drive/Colab Notebooks/One_Page_Heads/images/test/IMG_5486.JPG_10.jpg: 640x640 (no detections), 14.0ms\n",
            "image 348/588 /content/gdrive/My Drive/Colab Notebooks/One_Page_Heads/images/test/IMG_5486.JPG_11.jpg: 640x640 1 Waldo, 13.9ms\n",
            "image 349/588 /content/gdrive/My Drive/Colab Notebooks/One_Page_Heads/images/test/IMG_5486.JPG_12.jpg: 640x640 (no detections), 13.9ms\n",
            "image 350/588 /content/gdrive/My Drive/Colab Notebooks/One_Page_Heads/images/test/IMG_5486.JPG_13.jpg: 640x640 (no detections), 15.2ms\n",
            "image 351/588 /content/gdrive/My Drive/Colab Notebooks/One_Page_Heads/images/test/IMG_5486.JPG_14.jpg: 640x640 (no detections), 14.0ms\n",
            "image 352/588 /content/gdrive/My Drive/Colab Notebooks/One_Page_Heads/images/test/IMG_5486.JPG_15.jpg: 640x640 (no detections), 16.5ms\n",
            "image 353/588 /content/gdrive/My Drive/Colab Notebooks/One_Page_Heads/images/test/IMG_5486.JPG_16.jpg: 640x640 (no detections), 14.4ms\n",
            "image 354/588 /content/gdrive/My Drive/Colab Notebooks/One_Page_Heads/images/test/IMG_5486.JPG_17.jpg: 640x640 1 Wenda, 14.0ms\n",
            "image 355/588 /content/gdrive/My Drive/Colab Notebooks/One_Page_Heads/images/test/IMG_5486.JPG_18.jpg: 640x640 (no detections), 13.9ms\n",
            "image 356/588 /content/gdrive/My Drive/Colab Notebooks/One_Page_Heads/images/test/IMG_5486.JPG_19.jpg: 640x640 (no detections), 15.8ms\n",
            "image 357/588 /content/gdrive/My Drive/Colab Notebooks/One_Page_Heads/images/test/IMG_5486.JPG_20.jpg: 640x640 (no detections), 15.5ms\n",
            "image 358/588 /content/gdrive/My Drive/Colab Notebooks/One_Page_Heads/images/test/IMG_5486.JPG_21.jpg: 640x640 (no detections), 13.9ms\n",
            "image 359/588 /content/gdrive/My Drive/Colab Notebooks/One_Page_Heads/images/test/IMG_5486.JPG_22.jpg: 640x640 (no detections), 15.1ms\n",
            "image 360/588 /content/gdrive/My Drive/Colab Notebooks/One_Page_Heads/images/test/IMG_5486.JPG_23.jpg: 640x640 (no detections), 15.7ms\n",
            "image 361/588 /content/gdrive/My Drive/Colab Notebooks/One_Page_Heads/images/test/IMG_5486.JPG_24.jpg: 640x640 1 Odlaw, 14.3ms\n",
            "image 362/588 /content/gdrive/My Drive/Colab Notebooks/One_Page_Heads/images/test/IMG_5486.JPG_25.jpg: 640x640 (no detections), 13.9ms\n",
            "image 363/588 /content/gdrive/My Drive/Colab Notebooks/One_Page_Heads/images/test/IMG_5486.JPG_26.jpg: 640x640 (no detections), 13.9ms\n",
            "image 364/588 /content/gdrive/My Drive/Colab Notebooks/One_Page_Heads/images/test/IMG_5486.JPG_27.jpg: 640x640 (no detections), 13.9ms\n",
            "image 365/588 /content/gdrive/My Drive/Colab Notebooks/One_Page_Heads/images/test/IMG_5486.JPG_28.jpg: 640x640 (no detections), 13.9ms\n",
            "image 366/588 /content/gdrive/My Drive/Colab Notebooks/One_Page_Heads/images/test/IMG_5486.JPG_29.jpg: 640x640 (no detections), 16.2ms\n",
            "image 367/588 /content/gdrive/My Drive/Colab Notebooks/One_Page_Heads/images/test/IMG_5486.JPG_30.jpg: 640x640 (no detections), 13.9ms\n",
            "image 368/588 /content/gdrive/My Drive/Colab Notebooks/One_Page_Heads/images/test/IMG_5486.JPG_31.jpg: 640x640 (no detections), 14.5ms\n",
            "image 369/588 /content/gdrive/My Drive/Colab Notebooks/One_Page_Heads/images/test/IMG_5486.JPG_32.jpg: 640x640 (no detections), 14.0ms\n",
            "image 370/588 /content/gdrive/My Drive/Colab Notebooks/One_Page_Heads/images/test/IMG_5486.JPG_33.jpg: 640x640 (no detections), 13.8ms\n",
            "image 371/588 /content/gdrive/My Drive/Colab Notebooks/One_Page_Heads/images/test/IMG_5486.JPG_34.jpg: 640x640 (no detections), 13.9ms\n",
            "image 372/588 /content/gdrive/My Drive/Colab Notebooks/One_Page_Heads/images/test/IMG_5486.JPG_35.jpg: 640x640 (no detections), 13.9ms\n",
            "image 373/588 /content/gdrive/My Drive/Colab Notebooks/One_Page_Heads/images/test/IMG_5486.JPG_36.jpg: 640x640 (no detections), 13.9ms\n",
            "image 374/588 /content/gdrive/My Drive/Colab Notebooks/One_Page_Heads/images/test/IMG_5486.JPG_37.jpg: 640x640 (no detections), 13.8ms\n",
            "image 375/588 /content/gdrive/My Drive/Colab Notebooks/One_Page_Heads/images/test/IMG_5486.JPG_38.jpg: 640x640 (no detections), 13.8ms\n",
            "image 376/588 /content/gdrive/My Drive/Colab Notebooks/One_Page_Heads/images/test/IMG_5486.JPG_39.jpg: 640x640 (no detections), 14.0ms\n",
            "image 377/588 /content/gdrive/My Drive/Colab Notebooks/One_Page_Heads/images/test/IMG_5486.JPG_40.jpg: 640x640 (no detections), 14.0ms\n",
            "image 378/588 /content/gdrive/My Drive/Colab Notebooks/One_Page_Heads/images/test/IMG_5486.JPG_41.jpg: 640x640 (no detections), 13.9ms\n",
            "image 379/588 /content/gdrive/My Drive/Colab Notebooks/One_Page_Heads/images/test/IMG_5487.JPG_00.jpg: 640x640 (no detections), 13.9ms\n",
            "image 380/588 /content/gdrive/My Drive/Colab Notebooks/One_Page_Heads/images/test/IMG_5487.JPG_01.jpg: 640x640 (no detections), 13.9ms\n",
            "image 381/588 /content/gdrive/My Drive/Colab Notebooks/One_Page_Heads/images/test/IMG_5487.JPG_02.jpg: 640x640 (no detections), 16.5ms\n",
            "image 382/588 /content/gdrive/My Drive/Colab Notebooks/One_Page_Heads/images/test/IMG_5487.JPG_03.jpg: 640x640 1 Woof, 13.9ms\n",
            "image 383/588 /content/gdrive/My Drive/Colab Notebooks/One_Page_Heads/images/test/IMG_5487.JPG_04.jpg: 640x640 (no detections), 13.9ms\n",
            "image 384/588 /content/gdrive/My Drive/Colab Notebooks/One_Page_Heads/images/test/IMG_5487.JPG_05.jpg: 640x640 1 Wenda, 14.0ms\n",
            "image 385/588 /content/gdrive/My Drive/Colab Notebooks/One_Page_Heads/images/test/IMG_5487.JPG_06.jpg: 640x640 (no detections), 13.9ms\n",
            "image 386/588 /content/gdrive/My Drive/Colab Notebooks/One_Page_Heads/images/test/IMG_5487.JPG_07.jpg: 640x640 (no detections), 13.9ms\n",
            "image 387/588 /content/gdrive/My Drive/Colab Notebooks/One_Page_Heads/images/test/IMG_5487.JPG_08.jpg: 640x640 (no detections), 14.4ms\n",
            "image 388/588 /content/gdrive/My Drive/Colab Notebooks/One_Page_Heads/images/test/IMG_5487.JPG_09.jpg: 640x640 (no detections), 14.1ms\n",
            "image 389/588 /content/gdrive/My Drive/Colab Notebooks/One_Page_Heads/images/test/IMG_5487.JPG_10.jpg: 640x640 1 Wizard, 14.8ms\n",
            "image 390/588 /content/gdrive/My Drive/Colab Notebooks/One_Page_Heads/images/test/IMG_5487.JPG_11.jpg: 640x640 (no detections), 22.8ms\n",
            "image 391/588 /content/gdrive/My Drive/Colab Notebooks/One_Page_Heads/images/test/IMG_5487.JPG_12.jpg: 640x640 1 Waldo, 14.1ms\n",
            "image 392/588 /content/gdrive/My Drive/Colab Notebooks/One_Page_Heads/images/test/IMG_5487.JPG_13.jpg: 640x640 (no detections), 14.1ms\n",
            "image 393/588 /content/gdrive/My Drive/Colab Notebooks/One_Page_Heads/images/test/IMG_5487.JPG_14.jpg: 640x640 (no detections), 20.2ms\n",
            "image 394/588 /content/gdrive/My Drive/Colab Notebooks/One_Page_Heads/images/test/IMG_5487.JPG_15.jpg: 640x640 (no detections), 15.7ms\n",
            "image 395/588 /content/gdrive/My Drive/Colab Notebooks/One_Page_Heads/images/test/IMG_5487.JPG_16.jpg: 640x640 (no detections), 14.4ms\n",
            "image 396/588 /content/gdrive/My Drive/Colab Notebooks/One_Page_Heads/images/test/IMG_5487.JPG_17.jpg: 640x640 (no detections), 17.0ms\n",
            "image 397/588 /content/gdrive/My Drive/Colab Notebooks/One_Page_Heads/images/test/IMG_5487.JPG_18.jpg: 640x640 (no detections), 14.3ms\n",
            "image 398/588 /content/gdrive/My Drive/Colab Notebooks/One_Page_Heads/images/test/IMG_5487.JPG_19.jpg: 640x640 1 Woof, 18.1ms\n",
            "image 399/588 /content/gdrive/My Drive/Colab Notebooks/One_Page_Heads/images/test/IMG_5487.JPG_20.jpg: 640x640 (no detections), 18.3ms\n",
            "image 400/588 /content/gdrive/My Drive/Colab Notebooks/One_Page_Heads/images/test/IMG_5487.JPG_21.jpg: 640x640 (no detections), 18.7ms\n",
            "image 401/588 /content/gdrive/My Drive/Colab Notebooks/One_Page_Heads/images/test/IMG_5487.JPG_22.jpg: 640x640 (no detections), 15.5ms\n",
            "image 402/588 /content/gdrive/My Drive/Colab Notebooks/One_Page_Heads/images/test/IMG_5487.JPG_23.jpg: 640x640 (no detections), 13.9ms\n",
            "image 403/588 /content/gdrive/My Drive/Colab Notebooks/One_Page_Heads/images/test/IMG_5487.JPG_24.jpg: 640x640 (no detections), 14.9ms\n",
            "image 404/588 /content/gdrive/My Drive/Colab Notebooks/One_Page_Heads/images/test/IMG_5487.JPG_25.jpg: 640x640 (no detections), 13.9ms\n",
            "image 405/588 /content/gdrive/My Drive/Colab Notebooks/One_Page_Heads/images/test/IMG_5487.JPG_26.jpg: 640x640 (no detections), 14.0ms\n",
            "image 406/588 /content/gdrive/My Drive/Colab Notebooks/One_Page_Heads/images/test/IMG_5487.JPG_27.jpg: 640x640 (no detections), 14.0ms\n",
            "image 407/588 /content/gdrive/My Drive/Colab Notebooks/One_Page_Heads/images/test/IMG_5487.JPG_28.jpg: 640x640 (no detections), 15.2ms\n",
            "image 408/588 /content/gdrive/My Drive/Colab Notebooks/One_Page_Heads/images/test/IMG_5487.JPG_29.jpg: 640x640 (no detections), 13.9ms\n",
            "image 409/588 /content/gdrive/My Drive/Colab Notebooks/One_Page_Heads/images/test/IMG_5487.JPG_30.jpg: 640x640 (no detections), 13.9ms\n",
            "image 410/588 /content/gdrive/My Drive/Colab Notebooks/One_Page_Heads/images/test/IMG_5487.JPG_31.jpg: 640x640 (no detections), 13.9ms\n",
            "image 411/588 /content/gdrive/My Drive/Colab Notebooks/One_Page_Heads/images/test/IMG_5487.JPG_32.jpg: 640x640 (no detections), 13.9ms\n",
            "image 412/588 /content/gdrive/My Drive/Colab Notebooks/One_Page_Heads/images/test/IMG_5487.JPG_33.jpg: 640x640 (no detections), 13.8ms\n",
            "image 413/588 /content/gdrive/My Drive/Colab Notebooks/One_Page_Heads/images/test/IMG_5487.JPG_34.jpg: 640x640 (no detections), 13.9ms\n",
            "image 414/588 /content/gdrive/My Drive/Colab Notebooks/One_Page_Heads/images/test/IMG_5487.JPG_35.jpg: 640x640 (no detections), 13.9ms\n",
            "image 415/588 /content/gdrive/My Drive/Colab Notebooks/One_Page_Heads/images/test/IMG_5487.JPG_36.jpg: 640x640 (no detections), 13.9ms\n",
            "image 416/588 /content/gdrive/My Drive/Colab Notebooks/One_Page_Heads/images/test/IMG_5487.JPG_37.jpg: 640x640 (no detections), 13.9ms\n",
            "image 417/588 /content/gdrive/My Drive/Colab Notebooks/One_Page_Heads/images/test/IMG_5487.JPG_38.jpg: 640x640 (no detections), 17.1ms\n",
            "image 418/588 /content/gdrive/My Drive/Colab Notebooks/One_Page_Heads/images/test/IMG_5487.JPG_39.jpg: 640x640 (no detections), 15.9ms\n",
            "image 419/588 /content/gdrive/My Drive/Colab Notebooks/One_Page_Heads/images/test/IMG_5487.JPG_40.jpg: 640x640 (no detections), 15.8ms\n",
            "image 420/588 /content/gdrive/My Drive/Colab Notebooks/One_Page_Heads/images/test/IMG_5487.JPG_41.jpg: 640x640 (no detections), 19.0ms\n",
            "image 421/588 /content/gdrive/My Drive/Colab Notebooks/One_Page_Heads/images/test/IMG_5492.JPG_00.jpg: 640x640 (no detections), 14.0ms\n",
            "image 422/588 /content/gdrive/My Drive/Colab Notebooks/One_Page_Heads/images/test/IMG_5492.JPG_01.jpg: 640x640 (no detections), 13.9ms\n",
            "image 423/588 /content/gdrive/My Drive/Colab Notebooks/One_Page_Heads/images/test/IMG_5492.JPG_02.jpg: 640x640 (no detections), 13.9ms\n",
            "image 424/588 /content/gdrive/My Drive/Colab Notebooks/One_Page_Heads/images/test/IMG_5492.JPG_03.jpg: 640x640 (no detections), 13.9ms\n",
            "image 425/588 /content/gdrive/My Drive/Colab Notebooks/One_Page_Heads/images/test/IMG_5492.JPG_04.jpg: 640x640 (no detections), 13.9ms\n",
            "image 426/588 /content/gdrive/My Drive/Colab Notebooks/One_Page_Heads/images/test/IMG_5492.JPG_05.jpg: 640x640 (no detections), 13.8ms\n",
            "image 427/588 /content/gdrive/My Drive/Colab Notebooks/One_Page_Heads/images/test/IMG_5492.JPG_06.jpg: 640x640 (no detections), 13.9ms\n",
            "image 428/588 /content/gdrive/My Drive/Colab Notebooks/One_Page_Heads/images/test/IMG_5492.JPG_07.jpg: 640x640 (no detections), 13.9ms\n",
            "image 429/588 /content/gdrive/My Drive/Colab Notebooks/One_Page_Heads/images/test/IMG_5492.JPG_08.jpg: 640x640 (no detections), 13.9ms\n",
            "image 430/588 /content/gdrive/My Drive/Colab Notebooks/One_Page_Heads/images/test/IMG_5492.JPG_09.jpg: 640x640 1 Waldo, 2 Wendas, 19.7ms\n",
            "image 431/588 /content/gdrive/My Drive/Colab Notebooks/One_Page_Heads/images/test/IMG_5492.JPG_10.jpg: 640x640 (no detections), 14.0ms\n",
            "image 432/588 /content/gdrive/My Drive/Colab Notebooks/One_Page_Heads/images/test/IMG_5492.JPG_11.jpg: 640x640 1 Wenda, 1 Odlaw, 1 Wizard, 15.7ms\n",
            "image 433/588 /content/gdrive/My Drive/Colab Notebooks/One_Page_Heads/images/test/IMG_5492.JPG_12.jpg: 640x640 2 Woofs, 17.7ms\n",
            "image 434/588 /content/gdrive/My Drive/Colab Notebooks/One_Page_Heads/images/test/IMG_5492.JPG_13.jpg: 640x640 (no detections), 13.9ms\n",
            "image 435/588 /content/gdrive/My Drive/Colab Notebooks/One_Page_Heads/images/test/IMG_5492.JPG_14.jpg: 640x640 (no detections), 13.9ms\n",
            "image 436/588 /content/gdrive/My Drive/Colab Notebooks/One_Page_Heads/images/test/IMG_5492.JPG_15.jpg: 640x640 1 Waldo, 13.9ms\n",
            "image 437/588 /content/gdrive/My Drive/Colab Notebooks/One_Page_Heads/images/test/IMG_5492.JPG_16.jpg: 640x640 (no detections), 14.9ms\n",
            "image 438/588 /content/gdrive/My Drive/Colab Notebooks/One_Page_Heads/images/test/IMG_5492.JPG_17.jpg: 640x640 (no detections), 15.7ms\n",
            "image 439/588 /content/gdrive/My Drive/Colab Notebooks/One_Page_Heads/images/test/IMG_5492.JPG_18.jpg: 640x640 1 Waldo, 13.9ms\n",
            "image 440/588 /content/gdrive/My Drive/Colab Notebooks/One_Page_Heads/images/test/IMG_5492.JPG_19.jpg: 640x640 (no detections), 13.9ms\n",
            "image 441/588 /content/gdrive/My Drive/Colab Notebooks/One_Page_Heads/images/test/IMG_5492.JPG_20.jpg: 640x640 (no detections), 13.9ms\n",
            "image 442/588 /content/gdrive/My Drive/Colab Notebooks/One_Page_Heads/images/test/IMG_5492.JPG_21.jpg: 640x640 (no detections), 13.9ms\n",
            "image 443/588 /content/gdrive/My Drive/Colab Notebooks/One_Page_Heads/images/test/IMG_5492.JPG_22.jpg: 640x640 1 Waldo, 1 Wenda, 15.4ms\n",
            "image 444/588 /content/gdrive/My Drive/Colab Notebooks/One_Page_Heads/images/test/IMG_5492.JPG_23.jpg: 640x640 (no detections), 14.8ms\n",
            "image 445/588 /content/gdrive/My Drive/Colab Notebooks/One_Page_Heads/images/test/IMG_5492.JPG_24.jpg: 640x640 1 Wenda, 14.5ms\n",
            "image 446/588 /content/gdrive/My Drive/Colab Notebooks/One_Page_Heads/images/test/IMG_5492.JPG_25.jpg: 640x640 (no detections), 14.0ms\n",
            "image 447/588 /content/gdrive/My Drive/Colab Notebooks/One_Page_Heads/images/test/IMG_5492.JPG_26.jpg: 640x640 (no detections), 20.9ms\n",
            "image 448/588 /content/gdrive/My Drive/Colab Notebooks/One_Page_Heads/images/test/IMG_5492.JPG_27.jpg: 640x640 (no detections), 17.5ms\n",
            "image 449/588 /content/gdrive/My Drive/Colab Notebooks/One_Page_Heads/images/test/IMG_5492.JPG_28.jpg: 640x640 (no detections), 14.0ms\n",
            "image 450/588 /content/gdrive/My Drive/Colab Notebooks/One_Page_Heads/images/test/IMG_5492.JPG_29.jpg: 640x640 1 Odlaw, 14.0ms\n",
            "image 451/588 /content/gdrive/My Drive/Colab Notebooks/One_Page_Heads/images/test/IMG_5492.JPG_30.jpg: 640x640 (no detections), 13.9ms\n",
            "image 452/588 /content/gdrive/My Drive/Colab Notebooks/One_Page_Heads/images/test/IMG_5492.JPG_31.jpg: 640x640 (no detections), 15.1ms\n",
            "image 453/588 /content/gdrive/My Drive/Colab Notebooks/One_Page_Heads/images/test/IMG_5492.JPG_32.jpg: 640x640 1 Odlaw, 13.9ms\n",
            "image 454/588 /content/gdrive/My Drive/Colab Notebooks/One_Page_Heads/images/test/IMG_5492.JPG_33.jpg: 640x640 (no detections), 13.9ms\n",
            "image 455/588 /content/gdrive/My Drive/Colab Notebooks/One_Page_Heads/images/test/IMG_5492.JPG_34.jpg: 640x640 (no detections), 14.0ms\n",
            "image 456/588 /content/gdrive/My Drive/Colab Notebooks/One_Page_Heads/images/test/IMG_5492.JPG_35.jpg: 640x640 (no detections), 16.2ms\n",
            "image 457/588 /content/gdrive/My Drive/Colab Notebooks/One_Page_Heads/images/test/IMG_5492.JPG_36.jpg: 640x640 (no detections), 13.9ms\n",
            "image 458/588 /content/gdrive/My Drive/Colab Notebooks/One_Page_Heads/images/test/IMG_5492.JPG_37.jpg: 640x640 (no detections), 13.9ms\n",
            "image 459/588 /content/gdrive/My Drive/Colab Notebooks/One_Page_Heads/images/test/IMG_5492.JPG_38.jpg: 640x640 (no detections), 13.9ms\n",
            "image 460/588 /content/gdrive/My Drive/Colab Notebooks/One_Page_Heads/images/test/IMG_5492.JPG_39.jpg: 640x640 (no detections), 13.9ms\n",
            "image 461/588 /content/gdrive/My Drive/Colab Notebooks/One_Page_Heads/images/test/IMG_5492.JPG_40.jpg: 640x640 (no detections), 13.9ms\n",
            "image 462/588 /content/gdrive/My Drive/Colab Notebooks/One_Page_Heads/images/test/IMG_5492.JPG_41.jpg: 640x640 (no detections), 13.9ms\n",
            "image 463/588 /content/gdrive/My Drive/Colab Notebooks/One_Page_Heads/images/test/IMG_5493.JPG_00.jpg: 640x640 (no detections), 13.9ms\n",
            "image 464/588 /content/gdrive/My Drive/Colab Notebooks/One_Page_Heads/images/test/IMG_5493.JPG_01.jpg: 640x640 (no detections), 25.2ms\n",
            "image 465/588 /content/gdrive/My Drive/Colab Notebooks/One_Page_Heads/images/test/IMG_5493.JPG_02.jpg: 640x640 (no detections), 13.9ms\n",
            "image 466/588 /content/gdrive/My Drive/Colab Notebooks/One_Page_Heads/images/test/IMG_5493.JPG_03.jpg: 640x640 (no detections), 15.4ms\n",
            "image 467/588 /content/gdrive/My Drive/Colab Notebooks/One_Page_Heads/images/test/IMG_5493.JPG_04.jpg: 640x640 1 Odlaw, 14.3ms\n",
            "image 468/588 /content/gdrive/My Drive/Colab Notebooks/One_Page_Heads/images/test/IMG_5493.JPG_05.jpg: 640x640 (no detections), 13.9ms\n",
            "image 469/588 /content/gdrive/My Drive/Colab Notebooks/One_Page_Heads/images/test/IMG_5493.JPG_06.jpg: 640x640 (no detections), 13.9ms\n",
            "image 470/588 /content/gdrive/My Drive/Colab Notebooks/One_Page_Heads/images/test/IMG_5493.JPG_07.jpg: 640x640 (no detections), 14.9ms\n",
            "image 471/588 /content/gdrive/My Drive/Colab Notebooks/One_Page_Heads/images/test/IMG_5493.JPG_08.jpg: 640x640 (no detections), 13.9ms\n",
            "image 472/588 /content/gdrive/My Drive/Colab Notebooks/One_Page_Heads/images/test/IMG_5493.JPG_09.jpg: 640x640 (no detections), 14.0ms\n",
            "image 473/588 /content/gdrive/My Drive/Colab Notebooks/One_Page_Heads/images/test/IMG_5493.JPG_10.jpg: 640x640 (no detections), 16.4ms\n",
            "image 474/588 /content/gdrive/My Drive/Colab Notebooks/One_Page_Heads/images/test/IMG_5493.JPG_11.jpg: 640x640 (no detections), 13.9ms\n",
            "image 475/588 /content/gdrive/My Drive/Colab Notebooks/One_Page_Heads/images/test/IMG_5493.JPG_12.jpg: 640x640 (no detections), 13.9ms\n",
            "image 476/588 /content/gdrive/My Drive/Colab Notebooks/One_Page_Heads/images/test/IMG_5493.JPG_13.jpg: 640x640 (no detections), 14.0ms\n",
            "image 477/588 /content/gdrive/My Drive/Colab Notebooks/One_Page_Heads/images/test/IMG_5493.JPG_14.jpg: 640x640 (no detections), 13.9ms\n",
            "image 478/588 /content/gdrive/My Drive/Colab Notebooks/One_Page_Heads/images/test/IMG_5493.JPG_15.jpg: 640x640 (no detections), 13.9ms\n",
            "image 479/588 /content/gdrive/My Drive/Colab Notebooks/One_Page_Heads/images/test/IMG_5493.JPG_16.jpg: 640x640 1 Wenda, 13.9ms\n",
            "image 480/588 /content/gdrive/My Drive/Colab Notebooks/One_Page_Heads/images/test/IMG_5493.JPG_17.jpg: 640x640 1 Wizard, 14.0ms\n",
            "image 481/588 /content/gdrive/My Drive/Colab Notebooks/One_Page_Heads/images/test/IMG_5493.JPG_18.jpg: 640x640 (no detections), 14.0ms\n",
            "image 482/588 /content/gdrive/My Drive/Colab Notebooks/One_Page_Heads/images/test/IMG_5493.JPG_19.jpg: 640x640 (no detections), 14.0ms\n",
            "image 483/588 /content/gdrive/My Drive/Colab Notebooks/One_Page_Heads/images/test/IMG_5493.JPG_20.jpg: 640x640 (no detections), 13.9ms\n",
            "image 484/588 /content/gdrive/My Drive/Colab Notebooks/One_Page_Heads/images/test/IMG_5493.JPG_21.jpg: 640x640 (no detections), 14.6ms\n",
            "image 485/588 /content/gdrive/My Drive/Colab Notebooks/One_Page_Heads/images/test/IMG_5493.JPG_22.jpg: 640x640 (no detections), 14.0ms\n",
            "image 486/588 /content/gdrive/My Drive/Colab Notebooks/One_Page_Heads/images/test/IMG_5493.JPG_23.jpg: 640x640 (no detections), 15.6ms\n",
            "image 487/588 /content/gdrive/My Drive/Colab Notebooks/One_Page_Heads/images/test/IMG_5493.JPG_24.jpg: 640x640 (no detections), 16.4ms\n",
            "image 488/588 /content/gdrive/My Drive/Colab Notebooks/One_Page_Heads/images/test/IMG_5493.JPG_25.jpg: 640x640 (no detections), 14.1ms\n",
            "image 489/588 /content/gdrive/My Drive/Colab Notebooks/One_Page_Heads/images/test/IMG_5493.JPG_26.jpg: 640x640 (no detections), 13.9ms\n",
            "image 490/588 /content/gdrive/My Drive/Colab Notebooks/One_Page_Heads/images/test/IMG_5493.JPG_27.jpg: 640x640 (no detections), 14.3ms\n",
            "image 491/588 /content/gdrive/My Drive/Colab Notebooks/One_Page_Heads/images/test/IMG_5493.JPG_28.jpg: 640x640 (no detections), 13.9ms\n",
            "image 492/588 /content/gdrive/My Drive/Colab Notebooks/One_Page_Heads/images/test/IMG_5493.JPG_29.jpg: 640x640 (no detections), 13.9ms\n",
            "image 493/588 /content/gdrive/My Drive/Colab Notebooks/One_Page_Heads/images/test/IMG_5493.JPG_30.jpg: 640x640 (no detections), 14.0ms\n",
            "image 494/588 /content/gdrive/My Drive/Colab Notebooks/One_Page_Heads/images/test/IMG_5493.JPG_31.jpg: 640x640 (no detections), 14.0ms\n",
            "image 495/588 /content/gdrive/My Drive/Colab Notebooks/One_Page_Heads/images/test/IMG_5493.JPG_32.jpg: 640x640 (no detections), 20.7ms\n",
            "image 496/588 /content/gdrive/My Drive/Colab Notebooks/One_Page_Heads/images/test/IMG_5493.JPG_33.jpg: 640x640 (no detections), 13.9ms\n",
            "image 497/588 /content/gdrive/My Drive/Colab Notebooks/One_Page_Heads/images/test/IMG_5493.JPG_34.jpg: 640x640 (no detections), 14.0ms\n",
            "image 498/588 /content/gdrive/My Drive/Colab Notebooks/One_Page_Heads/images/test/IMG_5493.JPG_35.jpg: 640x640 (no detections), 14.0ms\n",
            "image 499/588 /content/gdrive/My Drive/Colab Notebooks/One_Page_Heads/images/test/IMG_5493.JPG_36.jpg: 640x640 (no detections), 14.0ms\n",
            "image 500/588 /content/gdrive/My Drive/Colab Notebooks/One_Page_Heads/images/test/IMG_5493.JPG_37.jpg: 640x640 (no detections), 13.9ms\n",
            "image 501/588 /content/gdrive/My Drive/Colab Notebooks/One_Page_Heads/images/test/IMG_5493.JPG_38.jpg: 640x640 (no detections), 13.9ms\n",
            "image 502/588 /content/gdrive/My Drive/Colab Notebooks/One_Page_Heads/images/test/IMG_5493.JPG_39.jpg: 640x640 (no detections), 13.9ms\n",
            "image 503/588 /content/gdrive/My Drive/Colab Notebooks/One_Page_Heads/images/test/IMG_5493.JPG_40.jpg: 640x640 (no detections), 14.0ms\n",
            "image 504/588 /content/gdrive/My Drive/Colab Notebooks/One_Page_Heads/images/test/IMG_5493.JPG_41.jpg: 640x640 (no detections), 28.2ms\n",
            "image 505/588 /content/gdrive/My Drive/Colab Notebooks/One_Page_Heads/images/test/IMG_5538.JPG_00.jpg: 640x640 (no detections), 14.0ms\n",
            "image 506/588 /content/gdrive/My Drive/Colab Notebooks/One_Page_Heads/images/test/IMG_5538.JPG_01.jpg: 640x640 (no detections), 14.5ms\n",
            "image 507/588 /content/gdrive/My Drive/Colab Notebooks/One_Page_Heads/images/test/IMG_5538.JPG_02.jpg: 640x640 (no detections), 14.8ms\n",
            "image 508/588 /content/gdrive/My Drive/Colab Notebooks/One_Page_Heads/images/test/IMG_5538.JPG_03.jpg: 640x640 (no detections), 14.1ms\n",
            "image 509/588 /content/gdrive/My Drive/Colab Notebooks/One_Page_Heads/images/test/IMG_5538.JPG_04.jpg: 640x640 (no detections), 14.2ms\n",
            "image 510/588 /content/gdrive/My Drive/Colab Notebooks/One_Page_Heads/images/test/IMG_5538.JPG_05.jpg: 640x640 (no detections), 14.0ms\n",
            "image 511/588 /content/gdrive/My Drive/Colab Notebooks/One_Page_Heads/images/test/IMG_5538.JPG_06.jpg: 640x640 (no detections), 17.3ms\n",
            "image 512/588 /content/gdrive/My Drive/Colab Notebooks/One_Page_Heads/images/test/IMG_5538.JPG_07.jpg: 640x640 (no detections), 14.0ms\n",
            "image 513/588 /content/gdrive/My Drive/Colab Notebooks/One_Page_Heads/images/test/IMG_5538.JPG_08.jpg: 640x640 (no detections), 13.9ms\n",
            "image 514/588 /content/gdrive/My Drive/Colab Notebooks/One_Page_Heads/images/test/IMG_5538.JPG_09.jpg: 640x640 (no detections), 14.0ms\n",
            "image 515/588 /content/gdrive/My Drive/Colab Notebooks/One_Page_Heads/images/test/IMG_5538.JPG_10.jpg: 640x640 (no detections), 14.0ms\n",
            "image 516/588 /content/gdrive/My Drive/Colab Notebooks/One_Page_Heads/images/test/IMG_5538.JPG_11.jpg: 640x640 (no detections), 14.1ms\n",
            "image 517/588 /content/gdrive/My Drive/Colab Notebooks/One_Page_Heads/images/test/IMG_5538.JPG_12.jpg: 640x640 (no detections), 13.9ms\n",
            "image 518/588 /content/gdrive/My Drive/Colab Notebooks/One_Page_Heads/images/test/IMG_5538.JPG_13.jpg: 640x640 (no detections), 16.5ms\n",
            "image 519/588 /content/gdrive/My Drive/Colab Notebooks/One_Page_Heads/images/test/IMG_5538.JPG_14.jpg: 640x640 (no detections), 13.9ms\n",
            "image 520/588 /content/gdrive/My Drive/Colab Notebooks/One_Page_Heads/images/test/IMG_5538.JPG_15.jpg: 640x640 (no detections), 14.0ms\n",
            "image 521/588 /content/gdrive/My Drive/Colab Notebooks/One_Page_Heads/images/test/IMG_5538.JPG_16.jpg: 640x640 (no detections), 13.9ms\n",
            "image 522/588 /content/gdrive/My Drive/Colab Notebooks/One_Page_Heads/images/test/IMG_5538.JPG_17.jpg: 640x640 2 Woofs, 16.6ms\n",
            "image 523/588 /content/gdrive/My Drive/Colab Notebooks/One_Page_Heads/images/test/IMG_5538.JPG_18.jpg: 640x640 (no detections), 14.0ms\n",
            "image 524/588 /content/gdrive/My Drive/Colab Notebooks/One_Page_Heads/images/test/IMG_5538.JPG_19.jpg: 640x640 (no detections), 14.0ms\n",
            "image 525/588 /content/gdrive/My Drive/Colab Notebooks/One_Page_Heads/images/test/IMG_5538.JPG_20.jpg: 640x640 (no detections), 14.1ms\n",
            "image 526/588 /content/gdrive/My Drive/Colab Notebooks/One_Page_Heads/images/test/IMG_5538.JPG_21.jpg: 640x640 (no detections), 15.8ms\n",
            "image 527/588 /content/gdrive/My Drive/Colab Notebooks/One_Page_Heads/images/test/IMG_5538.JPG_22.jpg: 640x640 1 Odlaw, 14.0ms\n",
            "image 528/588 /content/gdrive/My Drive/Colab Notebooks/One_Page_Heads/images/test/IMG_5538.JPG_23.jpg: 640x640 (no detections), 14.2ms\n",
            "image 529/588 /content/gdrive/My Drive/Colab Notebooks/One_Page_Heads/images/test/IMG_5538.JPG_24.jpg: 640x640 (no detections), 14.0ms\n",
            "image 530/588 /content/gdrive/My Drive/Colab Notebooks/One_Page_Heads/images/test/IMG_5538.JPG_25.jpg: 640x640 (no detections), 14.0ms\n",
            "image 531/588 /content/gdrive/My Drive/Colab Notebooks/One_Page_Heads/images/test/IMG_5538.JPG_26.jpg: 640x640 (no detections), 14.0ms\n",
            "image 532/588 /content/gdrive/My Drive/Colab Notebooks/One_Page_Heads/images/test/IMG_5538.JPG_27.jpg: 640x640 (no detections), 14.0ms\n",
            "image 533/588 /content/gdrive/My Drive/Colab Notebooks/One_Page_Heads/images/test/IMG_5538.JPG_28.jpg: 640x640 (no detections), 15.0ms\n",
            "image 534/588 /content/gdrive/My Drive/Colab Notebooks/One_Page_Heads/images/test/IMG_5538.JPG_29.jpg: 640x640 (no detections), 14.1ms\n",
            "image 535/588 /content/gdrive/My Drive/Colab Notebooks/One_Page_Heads/images/test/IMG_5538.JPG_30.jpg: 640x640 1 Waldo, 1 Wenda, 14.0ms\n",
            "image 536/588 /content/gdrive/My Drive/Colab Notebooks/One_Page_Heads/images/test/IMG_5538.JPG_31.jpg: 640x640 (no detections), 15.0ms\n",
            "image 537/588 /content/gdrive/My Drive/Colab Notebooks/One_Page_Heads/images/test/IMG_5538.JPG_32.jpg: 640x640 (no detections), 14.0ms\n",
            "image 538/588 /content/gdrive/My Drive/Colab Notebooks/One_Page_Heads/images/test/IMG_5538.JPG_33.jpg: 640x640 (no detections), 14.1ms\n",
            "image 539/588 /content/gdrive/My Drive/Colab Notebooks/One_Page_Heads/images/test/IMG_5538.JPG_34.jpg: 640x640 (no detections), 21.1ms\n",
            "image 540/588 /content/gdrive/My Drive/Colab Notebooks/One_Page_Heads/images/test/IMG_5538.JPG_35.jpg: 640x640 (no detections), 14.0ms\n",
            "image 541/588 /content/gdrive/My Drive/Colab Notebooks/One_Page_Heads/images/test/IMG_5538.JPG_36.jpg: 640x640 (no detections), 14.1ms\n",
            "image 542/588 /content/gdrive/My Drive/Colab Notebooks/One_Page_Heads/images/test/IMG_5538.JPG_37.jpg: 640x640 (no detections), 13.9ms\n",
            "image 543/588 /content/gdrive/My Drive/Colab Notebooks/One_Page_Heads/images/test/IMG_5538.JPG_38.jpg: 640x640 (no detections), 13.9ms\n",
            "image 544/588 /content/gdrive/My Drive/Colab Notebooks/One_Page_Heads/images/test/IMG_5538.JPG_39.jpg: 640x640 (no detections), 13.9ms\n",
            "image 545/588 /content/gdrive/My Drive/Colab Notebooks/One_Page_Heads/images/test/IMG_5538.JPG_40.jpg: 640x640 (no detections), 13.9ms\n",
            "image 546/588 /content/gdrive/My Drive/Colab Notebooks/One_Page_Heads/images/test/IMG_5538.JPG_41.jpg: 640x640 (no detections), 14.0ms\n",
            "image 547/588 /content/gdrive/My Drive/Colab Notebooks/One_Page_Heads/images/test/IMG_5539.JPG_00.jpg: 640x640 (no detections), 13.9ms\n",
            "image 548/588 /content/gdrive/My Drive/Colab Notebooks/One_Page_Heads/images/test/IMG_5539.JPG_01.jpg: 640x640 (no detections), 15.2ms\n",
            "image 549/588 /content/gdrive/My Drive/Colab Notebooks/One_Page_Heads/images/test/IMG_5539.JPG_02.jpg: 640x640 (no detections), 13.9ms\n",
            "image 550/588 /content/gdrive/My Drive/Colab Notebooks/One_Page_Heads/images/test/IMG_5539.JPG_03.jpg: 640x640 (no detections), 15.5ms\n",
            "image 551/588 /content/gdrive/My Drive/Colab Notebooks/One_Page_Heads/images/test/IMG_5539.JPG_04.jpg: 640x640 (no detections), 14.0ms\n",
            "image 552/588 /content/gdrive/My Drive/Colab Notebooks/One_Page_Heads/images/test/IMG_5539.JPG_05.jpg: 640x640 (no detections), 15.6ms\n",
            "image 553/588 /content/gdrive/My Drive/Colab Notebooks/One_Page_Heads/images/test/IMG_5539.JPG_06.jpg: 640x640 (no detections), 14.0ms\n",
            "image 554/588 /content/gdrive/My Drive/Colab Notebooks/One_Page_Heads/images/test/IMG_5539.JPG_07.jpg: 640x640 (no detections), 14.0ms\n",
            "image 555/588 /content/gdrive/My Drive/Colab Notebooks/One_Page_Heads/images/test/IMG_5539.JPG_08.jpg: 640x640 (no detections), 14.0ms\n",
            "image 556/588 /content/gdrive/My Drive/Colab Notebooks/One_Page_Heads/images/test/IMG_5539.JPG_09.jpg: 640x640 1 Waldo, 14.0ms\n",
            "image 557/588 /content/gdrive/My Drive/Colab Notebooks/One_Page_Heads/images/test/IMG_5539.JPG_10.jpg: 640x640 1 Waldo, 1 Wizard, 14.0ms\n",
            "image 558/588 /content/gdrive/My Drive/Colab Notebooks/One_Page_Heads/images/test/IMG_5539.JPG_11.jpg: 640x640 1 Wizard, 13.9ms\n",
            "image 559/588 /content/gdrive/My Drive/Colab Notebooks/One_Page_Heads/images/test/IMG_5539.JPG_12.jpg: 640x640 1 Odlaw, 14.7ms\n",
            "image 560/588 /content/gdrive/My Drive/Colab Notebooks/One_Page_Heads/images/test/IMG_5539.JPG_13.jpg: 640x640 (no detections), 13.9ms\n",
            "image 561/588 /content/gdrive/My Drive/Colab Notebooks/One_Page_Heads/images/test/IMG_5539.JPG_14.jpg: 640x640 (no detections), 14.0ms\n",
            "image 562/588 /content/gdrive/My Drive/Colab Notebooks/One_Page_Heads/images/test/IMG_5539.JPG_15.jpg: 640x640 (no detections), 13.9ms\n",
            "image 563/588 /content/gdrive/My Drive/Colab Notebooks/One_Page_Heads/images/test/IMG_5539.JPG_16.jpg: 640x640 1 Wenda, 1 Odlaw, 13.9ms\n",
            "image 564/588 /content/gdrive/My Drive/Colab Notebooks/One_Page_Heads/images/test/IMG_5539.JPG_17.jpg: 640x640 (no detections), 14.0ms\n",
            "image 565/588 /content/gdrive/My Drive/Colab Notebooks/One_Page_Heads/images/test/IMG_5539.JPG_18.jpg: 640x640 (no detections), 13.9ms\n",
            "image 566/588 /content/gdrive/My Drive/Colab Notebooks/One_Page_Heads/images/test/IMG_5539.JPG_19.jpg: 640x640 1 Waldo, 1 Wenda, 13.9ms\n",
            "image 567/588 /content/gdrive/My Drive/Colab Notebooks/One_Page_Heads/images/test/IMG_5539.JPG_20.jpg: 640x640 (no detections), 15.6ms\n",
            "image 568/588 /content/gdrive/My Drive/Colab Notebooks/One_Page_Heads/images/test/IMG_5539.JPG_21.jpg: 640x640 (no detections), 13.9ms\n",
            "image 569/588 /content/gdrive/My Drive/Colab Notebooks/One_Page_Heads/images/test/IMG_5539.JPG_22.jpg: 640x640 (no detections), 13.9ms\n",
            "image 570/588 /content/gdrive/My Drive/Colab Notebooks/One_Page_Heads/images/test/IMG_5539.JPG_23.jpg: 640x640 (no detections), 13.9ms\n",
            "image 571/588 /content/gdrive/My Drive/Colab Notebooks/One_Page_Heads/images/test/IMG_5539.JPG_24.jpg: 640x640 (no detections), 14.7ms\n",
            "image 572/588 /content/gdrive/My Drive/Colab Notebooks/One_Page_Heads/images/test/IMG_5539.JPG_25.jpg: 640x640 (no detections), 14.0ms\n",
            "image 573/588 /content/gdrive/My Drive/Colab Notebooks/One_Page_Heads/images/test/IMG_5539.JPG_26.jpg: 640x640 (no detections), 14.2ms\n",
            "image 574/588 /content/gdrive/My Drive/Colab Notebooks/One_Page_Heads/images/test/IMG_5539.JPG_27.jpg: 640x640 (no detections), 14.0ms\n",
            "image 575/588 /content/gdrive/My Drive/Colab Notebooks/One_Page_Heads/images/test/IMG_5539.JPG_28.jpg: 640x640 (no detections), 14.5ms\n",
            "image 576/588 /content/gdrive/My Drive/Colab Notebooks/One_Page_Heads/images/test/IMG_5539.JPG_29.jpg: 640x640 (no detections), 13.9ms\n",
            "image 577/588 /content/gdrive/My Drive/Colab Notebooks/One_Page_Heads/images/test/IMG_5539.JPG_30.jpg: 640x640 (no detections), 16.1ms\n",
            "image 578/588 /content/gdrive/My Drive/Colab Notebooks/One_Page_Heads/images/test/IMG_5539.JPG_31.jpg: 640x640 (no detections), 13.9ms\n",
            "image 579/588 /content/gdrive/My Drive/Colab Notebooks/One_Page_Heads/images/test/IMG_5539.JPG_32.jpg: 640x640 1 Odlaw, 13.9ms\n",
            "image 580/588 /content/gdrive/My Drive/Colab Notebooks/One_Page_Heads/images/test/IMG_5539.JPG_33.jpg: 640x640 (no detections), 15.8ms\n",
            "image 581/588 /content/gdrive/My Drive/Colab Notebooks/One_Page_Heads/images/test/IMG_5539.JPG_34.jpg: 640x640 (no detections), 13.9ms\n",
            "image 582/588 /content/gdrive/My Drive/Colab Notebooks/One_Page_Heads/images/test/IMG_5539.JPG_35.jpg: 640x640 (no detections), 13.9ms\n",
            "image 583/588 /content/gdrive/My Drive/Colab Notebooks/One_Page_Heads/images/test/IMG_5539.JPG_36.jpg: 640x640 (no detections), 13.9ms\n",
            "image 584/588 /content/gdrive/My Drive/Colab Notebooks/One_Page_Heads/images/test/IMG_5539.JPG_37.jpg: 640x640 (no detections), 13.9ms\n",
            "image 585/588 /content/gdrive/My Drive/Colab Notebooks/One_Page_Heads/images/test/IMG_5539.JPG_38.jpg: 640x640 (no detections), 15.7ms\n",
            "image 586/588 /content/gdrive/My Drive/Colab Notebooks/One_Page_Heads/images/test/IMG_5539.JPG_39.jpg: 640x640 (no detections), 15.2ms\n",
            "image 587/588 /content/gdrive/My Drive/Colab Notebooks/One_Page_Heads/images/test/IMG_5539.JPG_40.jpg: 640x640 (no detections), 14.0ms\n",
            "image 588/588 /content/gdrive/My Drive/Colab Notebooks/One_Page_Heads/images/test/IMG_5539.JPG_41.jpg: 640x640 (no detections), 14.0ms\n",
            "Speed: 2.0ms preprocess, 14.5ms inference, 0.8ms postprocess per image at shape (1, 3, 640, 640)\n",
            "Results saved to \u001b[1mruns/detect/train32\u001b[0m\n"
          ]
        }
      ]
    },
    {
      "cell_type": "code",
      "source": [
        "# Copy the results folder to Google Drive\n",
        "!cp -r /content/runs \"/content/gdrive/My Drive/Colab Notebooks/One_Page_Heads\"\n"
      ],
      "metadata": {
        "id": "GPLj8qQBQm_a"
      },
      "execution_count": null,
      "outputs": []
    },
    {
      "cell_type": "code",
      "source": [
        "# Get the model metrics\n",
        "results = model.val()\n",
        "\n",
        "# Print the metrics for the test images\n",
        "print(\"Test Images:\")\n",
        "print(\"- P:\", results.P.test)\n",
        "print(\"- R:\", results.R.test)\n",
        "print(\"- mAP50:\", results.map50.test)\n",
        "print(\"- mAP50-95:\", results.map.test)\n"
      ],
      "metadata": {
        "colab": {
          "base_uri": "https://localhost:8080/",
          "height": 1000
        },
        "id": "WDw5R-MWRB1R",
        "outputId": "f49298f1-3b81-4d3e-8f47-a05adeec7e78"
      },
      "execution_count": null,
      "outputs": [
        {
          "output_type": "stream",
          "name": "stdout",
          "text": [
            "Ultralytics YOLOv8.2.1 🚀 Python-3.10.12 torch-2.2.1+cu121 CUDA:0 (Tesla V100-SXM2-16GB, 16151MiB)\n"
          ]
        },
        {
          "output_type": "stream",
          "name": "stderr",
          "text": [
            "\u001b[34m\u001b[1mval: \u001b[0mScanning /content/gdrive/My Drive/Colab Notebooks/One_Page_Heads/labels/val.cache... 588 images, 551 backgrounds, 0 corrupt: 100%|██████████| 588/588 [00:00<?, ?it/s]\n",
            "/usr/lib/python3.10/multiprocessing/popen_fork.py:66: RuntimeWarning: os.fork() was called. os.fork() is incompatible with multithreaded code, and JAX is multithreaded, so this will likely lead to a deadlock.\n",
            "  self.pid = os.fork()\n",
            "                 Class     Images  Instances      Box(P          R      mAP50  mAP50-95): 100%|██████████| 37/37 [00:10<00:00,  3.51it/s]\n"
          ]
        },
        {
          "output_type": "stream",
          "name": "stdout",
          "text": [
            "                   all        588         39      0.843      0.832      0.887      0.678\n",
            "                 Waldo        588          9      0.736      0.889      0.896      0.759\n",
            "                 Wenda        588          7      0.955          1      0.995      0.825\n",
            "                 Odlaw        588          7      0.822          1      0.889      0.736\n",
            "                Wizard        588          9        0.7      0.667       0.78      0.588\n",
            "                  Woof        588          7          1      0.604      0.878      0.483\n",
            "Speed: 0.2ms preprocess, 11.0ms inference, 0.0ms loss, 1.0ms postprocess per image\n",
            "Results saved to \u001b[1mruns/detect/train33\u001b[0m\n",
            "Test Images:\n"
          ]
        },
        {
          "output_type": "error",
          "ename": "AttributeError",
          "evalue": "'DetMetrics' object has no attribute 'P'. See valid attributes below.\n\n    This class is a utility class for computing detection metrics such as precision, recall, and mean average precision\n    (mAP) of an object detection model.\n\n    Args:\n        save_dir (Path): A path to the directory where the output plots will be saved. Defaults to current directory.\n        plot (bool): A flag that indicates whether to plot precision-recall curves for each class. Defaults to False.\n        on_plot (func): An optional callback to pass plots path and data when they are rendered. Defaults to None.\n        names (tuple of str): A tuple of strings that represents the names of the classes. Defaults to an empty tuple.\n\n    Attributes:\n        save_dir (Path): A path to the directory where the output plots will be saved.\n        plot (bool): A flag that indicates whether to plot the precision-recall curves for each class.\n        on_plot (func): An optional callback to pass plots path and data when they are rendered.\n        names (tuple of str): A tuple of strings that represents the names of the classes.\n        box (Metric): An instance of the Metric class for storing the results of the detection metrics.\n        speed (dict): A dictionary for storing the execution time of different parts of the detection process.\n\n    Methods:\n        process(tp, conf, pred_cls, target_cls): Updates the metric results with the latest batch of predictions.\n        keys: Returns a list of keys for accessing the computed detection metrics.\n        mean_results: Returns a list of mean values for the computed detection metrics.\n        class_result(i): Returns a list of values for the computed detection metrics for a specific class.\n        maps: Returns a dictionary of mean average precision (mAP) values for different IoU thresholds.\n        fitness: Computes the fitness score based on the computed detection metrics.\n        ap_class_index: Returns a list of class indices sorted by their average precision (AP) values.\n        results_dict: Returns a dictionary that maps detection metric keys to their computed values.\n        curves: TODO\n        curves_results: TODO\n    ",
          "traceback": [
            "\u001b[0;31m---------------------------------------------------------------------------\u001b[0m",
            "\u001b[0;31mAttributeError\u001b[0m                            Traceback (most recent call last)",
            "\u001b[0;32m<ipython-input-37-7874f5633a24>\u001b[0m in \u001b[0;36m<cell line: 8>\u001b[0;34m()\u001b[0m\n\u001b[1;32m      6\u001b[0m \u001b[0;31m# Print the metrics for the test images\u001b[0m\u001b[0;34m\u001b[0m\u001b[0;34m\u001b[0m\u001b[0m\n\u001b[1;32m      7\u001b[0m \u001b[0mprint\u001b[0m\u001b[0;34m(\u001b[0m\u001b[0;34m\"Test Images:\"\u001b[0m\u001b[0;34m)\u001b[0m\u001b[0;34m\u001b[0m\u001b[0;34m\u001b[0m\u001b[0m\n\u001b[0;32m----> 8\u001b[0;31m \u001b[0mprint\u001b[0m\u001b[0;34m(\u001b[0m\u001b[0;34m\"- P:\"\u001b[0m\u001b[0;34m,\u001b[0m \u001b[0mresults\u001b[0m\u001b[0;34m.\u001b[0m\u001b[0mP\u001b[0m\u001b[0;34m.\u001b[0m\u001b[0mtest\u001b[0m\u001b[0;34m)\u001b[0m\u001b[0;34m\u001b[0m\u001b[0;34m\u001b[0m\u001b[0m\n\u001b[0m\u001b[1;32m      9\u001b[0m \u001b[0mprint\u001b[0m\u001b[0;34m(\u001b[0m\u001b[0;34m\"- R:\"\u001b[0m\u001b[0;34m,\u001b[0m \u001b[0mresults\u001b[0m\u001b[0;34m.\u001b[0m\u001b[0mR\u001b[0m\u001b[0;34m.\u001b[0m\u001b[0mtest\u001b[0m\u001b[0;34m)\u001b[0m\u001b[0;34m\u001b[0m\u001b[0;34m\u001b[0m\u001b[0m\n\u001b[1;32m     10\u001b[0m \u001b[0mprint\u001b[0m\u001b[0;34m(\u001b[0m\u001b[0;34m\"- mAP50:\"\u001b[0m\u001b[0;34m,\u001b[0m \u001b[0mresults\u001b[0m\u001b[0;34m.\u001b[0m\u001b[0mmap50\u001b[0m\u001b[0;34m.\u001b[0m\u001b[0mtest\u001b[0m\u001b[0;34m)\u001b[0m\u001b[0;34m\u001b[0m\u001b[0;34m\u001b[0m\u001b[0m\n",
            "\u001b[0;32m/usr/local/lib/python3.10/dist-packages/ultralytics/utils/__init__.py\u001b[0m in \u001b[0;36m__getattr__\u001b[0;34m(self, attr)\u001b[0m\n\u001b[1;32m    158\u001b[0m         \u001b[0;34m\"\"\"Custom attribute access error message with helpful information.\"\"\"\u001b[0m\u001b[0;34m\u001b[0m\u001b[0;34m\u001b[0m\u001b[0m\n\u001b[1;32m    159\u001b[0m         \u001b[0mname\u001b[0m \u001b[0;34m=\u001b[0m \u001b[0mself\u001b[0m\u001b[0;34m.\u001b[0m\u001b[0m__class__\u001b[0m\u001b[0;34m.\u001b[0m\u001b[0m__name__\u001b[0m\u001b[0;34m\u001b[0m\u001b[0;34m\u001b[0m\u001b[0m\n\u001b[0;32m--> 160\u001b[0;31m         \u001b[0;32mraise\u001b[0m \u001b[0mAttributeError\u001b[0m\u001b[0;34m(\u001b[0m\u001b[0;34mf\"'{name}' object has no attribute '{attr}'. See valid attributes below.\\n{self.__doc__}\"\u001b[0m\u001b[0;34m)\u001b[0m\u001b[0;34m\u001b[0m\u001b[0;34m\u001b[0m\u001b[0m\n\u001b[0m\u001b[1;32m    161\u001b[0m \u001b[0;34m\u001b[0m\u001b[0m\n\u001b[1;32m    162\u001b[0m \u001b[0;34m\u001b[0m\u001b[0m\n",
            "\u001b[0;31mAttributeError\u001b[0m: 'DetMetrics' object has no attribute 'P'. See valid attributes below.\n\n    This class is a utility class for computing detection metrics such as precision, recall, and mean average precision\n    (mAP) of an object detection model.\n\n    Args:\n        save_dir (Path): A path to the directory where the output plots will be saved. Defaults to current directory.\n        plot (bool): A flag that indicates whether to plot precision-recall curves for each class. Defaults to False.\n        on_plot (func): An optional callback to pass plots path and data when they are rendered. Defaults to None.\n        names (tuple of str): A tuple of strings that represents the names of the classes. Defaults to an empty tuple.\n\n    Attributes:\n        save_dir (Path): A path to the directory where the output plots will be saved.\n        plot (bool): A flag that indicates whether to plot the precision-recall curves for each class.\n        on_plot (func): An optional callback to pass plots path and data when they are rendered.\n        names (tuple of str): A tuple of strings that represents the names of the classes.\n        box (Metric): An instance of the Metric class for storing the results of the detection metrics.\n        speed (dict): A dictionary for storing the execution time of different parts of the detection process.\n\n    Methods:\n        process(tp, conf, pred_cls, target_cls): Updates the metric results with the latest batch of predictions.\n        keys: Returns a list of keys for accessing the computed detection metrics.\n        mean_results: Returns a list of mean values for the computed detection metrics.\n        class_result(i): Returns a list of values for the computed detection metrics for a specific class.\n        maps: Returns a dictionary of mean average precision (mAP) values for different IoU thresholds.\n        fitness: Computes the fitness score based on the computed detection metrics.\n        ap_class_index: Returns a list of class indices sorted by their average precision (AP) values.\n        results_dict: Returns a dictionary that maps detection metric keys to their computed values.\n        curves: TODO\n        curves_results: TODO\n    "
          ]
        }
      ]
    },
    {
      "cell_type": "code",
      "source": [],
      "metadata": {
        "id": "DEmm6Cf9Ropz"
      },
      "execution_count": null,
      "outputs": []
    }
  ]
}